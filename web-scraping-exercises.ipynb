{
 "cells": [
  {
   "cell_type": "markdown",
   "id": "ff035687",
   "metadata": {},
   "source": [
    "# Web scraping exercises"
   ]
  },
  {
   "cell_type": "code",
   "execution_count": 1,
   "id": "e8b612eb",
   "metadata": {},
   "outputs": [
    {
     "data": {
      "application/javascript": "IPython.notebook.set_autosave_interval(0)"
     },
     "metadata": {},
     "output_type": "display_data"
    },
    {
     "name": "stdout",
     "output_type": "stream",
     "text": [
      "Autosave disabled\n"
     ]
    }
   ],
   "source": [
    "#Disable autosave\n",
    "%autosave 0"
   ]
  },
  {
   "cell_type": "code",
   "execution_count": 2,
   "id": "f9469709",
   "metadata": {},
   "outputs": [],
   "source": [
    "#Import dependencies\n",
    "from requests import get\n",
    "from bs4 import BeautifulSoup\n",
    "import pandas as pd\n",
    "import re\n",
    "import os\n",
    "import json"
   ]
  },
  {
   "cell_type": "markdown",
   "id": "7e4bdda8",
   "metadata": {},
   "source": [
    "## Exercise 1\n",
    "\n",
    "Codeup Blog Articles\n",
    "\n",
    "Visit [Codeup's Blog](https://codeup.com/blog/) and record the urls for at least 5 distinct blog posts. For each post, you should scrape at least the post's title and content.\n",
    "\n",
    "Encapsulate your work in a function named get_blog_articles that will return a list of dictionaries, with each dictionary representing one article."
   ]
  },
  {
   "cell_type": "markdown",
   "id": "7a1d7134",
   "metadata": {},
   "source": [
    "URLs for blog posts:  \n",
    "https://codeup.com/data-science/recession-proof-career/  \n",
    "https://codeup.com/codeup-news/codeup-x-comic-con/  \n",
    "https://codeup.com/featured/series-part-3-web-development/  \n",
    "https://codeup.com/codeup-news/codeup-dallas-campus/  \n",
    "https://codeup.com/codeup-news/codeup-tv-commercial/"
   ]
  },
  {
   "cell_type": "code",
   "execution_count": 3,
   "id": "42ee4bac",
   "metadata": {},
   "outputs": [],
   "source": [
    "#Define headers\n",
    "headers = {'User-Agent': 'Codeup Data Science'}"
   ]
  },
  {
   "cell_type": "code",
   "execution_count": 4,
   "id": "b964b5e4",
   "metadata": {},
   "outputs": [],
   "source": [
    "#Make a request\n",
    "response = get('https://codeup.com/data-science/recession-proof-career/', headers=headers)"
   ]
  },
  {
   "cell_type": "code",
   "execution_count": 5,
   "id": "af72e09e",
   "metadata": {},
   "outputs": [
    {
     "data": {
      "text/plain": [
       "'Is a Career in Tech Recession-Proof?'"
      ]
     },
     "execution_count": 5,
     "metadata": {},
     "output_type": "execute_result"
    }
   ],
   "source": [
    "#Create the soup and investigate\n",
    "soup = BeautifulSoup(response.content, 'html.parser')\n",
    "example = soup.find('h1')\n",
    "example.text"
   ]
  },
  {
   "cell_type": "code",
   "execution_count": 6,
   "id": "3c669f29",
   "metadata": {},
   "outputs": [
    {
     "data": {
      "text/plain": [
       "'Aug 12, 2022'"
      ]
     },
     "execution_count": 6,
     "metadata": {},
     "output_type": "execute_result"
    }
   ],
   "source": [
    "#Access the date published\n",
    "example2 = soup.find('span', class_='published')\n",
    "example2.text"
   ]
  },
  {
   "cell_type": "code",
   "execution_count": 7,
   "id": "067cfc03",
   "metadata": {},
   "outputs": [
    {
     "data": {
      "text/plain": [
       "'\\n\\n\\n\\n\\n\\nGiven the current economic climate, many economists are considering the U.S. to be entering a recession. This can cause confusion, fear, and uncertainty, especially as it pertains to job security.'"
      ]
     },
     "execution_count": 7,
     "metadata": {},
     "output_type": "execute_result"
    }
   ],
   "source": [
    "#Access the article content\n",
    "example3 = soup.find('div', class_='entry-content')\n",
    "example3.text"
   ]
  },
  {
   "cell_type": "code",
   "execution_count": 8,
   "id": "f9d9fd8d",
   "metadata": {},
   "outputs": [],
   "source": [
    "#Create a list of links to scrape\n",
    "links = ['https://codeup.com/codeup-news/dei-report/',\n",
    "         'https://codeup.com/codeup-news/diversity-and-inclusion-award/',\n",
    "         'https://codeup.com/featured/financing-career-transition/',\n",
    "         'https://codeup.com/tips-for-prospective-students/tips-for-women/',\n",
    "         'https://codeup.com/cloud-administration/cloud-computing-and-aws/']"
   ]
  },
  {
   "cell_type": "code",
   "execution_count": 9,
   "id": "142b21b7",
   "metadata": {},
   "outputs": [],
   "source": [
    "#Loop through the links to collect the relevant information from the blog posts\n",
    "article_info = []\n",
    "\n",
    "for link in links:\n",
    "    \n",
    "    info_dict = {}\n",
    "    \n",
    "    response = get(link, headers=headers)\n",
    "    \n",
    "    soup = BeautifulSoup(response.content, 'html.parser')\n",
    "    \n",
    "    info_dict['title'] = soup.find('h1').text\n",
    "    \n",
    "    info_dict['date_published'] = soup.find('span', class_='published').text\n",
    "    \n",
    "    lst = []\n",
    "    cat = soup.find_all('a',rel=\"category tag\")\n",
    "    for kitty in cat:\n",
    "        lst.append(kitty.text)\n",
    "\n",
    "    info_dict['category'] = lst\n",
    "\n",
    "    info_dict['content'] = soup.find('div', class_='entry-content').text\n",
    "    \n",
    "    article_info.append(info_dict)\n",
    "    "
   ]
  },
  {
   "cell_type": "code",
   "execution_count": 10,
   "id": "2540d071",
   "metadata": {},
   "outputs": [],
   "source": [
    "#Create a function to collect the information and cache it as a json file\n",
    "def get_blog_articles(article_list):\n",
    "    \n",
    "    file = 'blog_posts.json'\n",
    "    \n",
    "    if os.path.exists(file):\n",
    "        \n",
    "        with open(file) as f:\n",
    "        \n",
    "            return json.load(f)\n",
    "    \n",
    "    headers = {'User-Agent': 'Codeup Data Science'}\n",
    "    \n",
    "    article_info = []\n",
    "    \n",
    "    for article in article_list:\n",
    "        \n",
    "        info_dict = {}\n",
    "        \n",
    "        response = get(article, headers=headers)\n",
    "        \n",
    "        soup = BeautifulSoup(response.content, 'html.parser')\n",
    "        \n",
    "        info_dict['title'] = soup.find('h1').text\n",
    "        \n",
    "        info_dict['date_published'] = soup.find('span', class_='published').text\n",
    "        \n",
    "        lst = []\n",
    "        cat = soup.find_all('a',rel=\"category tag\")\n",
    "        for kitty in cat:\n",
    "            lst.append(kitty.text)\n",
    "\n",
    "        info_dict['category'] = lst\n",
    "\n",
    "        info_dict['content'] = soup.find('div', class_='entry-content').text\n",
    "        \n",
    "        article_info.append(info_dict)\n",
    "        \n",
    "    with open(file, 'w') as f:\n",
    "        \n",
    "        json.dump(article_info, f)\n",
    "        \n",
    "    return article_info"
   ]
  },
  {
   "cell_type": "code",
   "execution_count": 11,
   "id": "98709333",
   "metadata": {},
   "outputs": [
    {
     "data": {
      "text/plain": [
       "[{'title': 'Diversity Equity and Inclusion Report',\n",
       "  'date_published': 'Oct 7, 2022',\n",
       "  'category': ['Codeup News'],\n",
       "  'content': '\\nCodeup is excited to launch our first Diversity Equity, and Inclusion (DEI) report! In over eight years as an organization, we’ve implemented policies and grown our DEI efforts. We are extremely proud of the progress we’ve made as a staff and Codeup community, and we recognize there is more to learn. This report captures some of the ways that we’ve lived our value of Cultivating Inclusive Growth, and how we will continue doing so as we look to the future.\\nWe wanted to shine a light on the demographics of our students and staff, and in particular how that compares to the tech industry as a whole. How we collect, organize, and share employee demographic data is informed by standards set by the Equal Employment Opportunity Commission (EEOC).\\nWe are proud to celebrate how we’ve grown and are motivated and committed to do more and be better. To view the report visit the link here, or download it below.\\n\\n'},\n",
       " {'title': 'Codeup Honored as SABJ Diversity and Inclusion Award Winner',\n",
       "  'date_published': 'Oct 7, 2022',\n",
       "  'category': ['Codeup News'],\n",
       "  'content': '\\nCodeup has been named the 2022 Diversity and Inclusion award winner from the San Antonio Business Journal!\\nWe are thrilled to be among those that take pride in ensuring that diversity, equity, and inclusion (DEI) are priorities in our work environments.\\nTo learn more about our efforts, please check out our DEI Report for 2022!\\n\\n\\t\\t\\t#gallery-1 {\\n\\t\\t\\t\\tmargin: auto;\\n\\t\\t\\t}\\n\\t\\t\\t#gallery-1 .gallery-item {\\n\\t\\t\\t\\tfloat: left;\\n\\t\\t\\t\\tmargin-top: 10px;\\n\\t\\t\\t\\ttext-align: center;\\n\\t\\t\\t\\twidth: 33%;\\n\\t\\t\\t}\\n\\t\\t\\t#gallery-1 img {\\n\\t\\t\\t\\tborder: 2px solid #cfcfcf;\\n\\t\\t\\t}\\n\\t\\t\\t#gallery-1 .gallery-caption {\\n\\t\\t\\t\\tmargin-left: 0;\\n\\t\\t\\t}\\n\\t\\t\\t/* see gallery_shortcode() in wp-includes/media.php */\\n\\t\\t\\n\\n\\n\\n\\n\\n\\n\\n\\n\\n\\n\\n'},\n",
       " {'title': 'How Can I Finance My Career Transition?',\n",
       "  'date_published': 'Sep 29, 2022',\n",
       "  'category': ['Cloud Administration',\n",
       "   'Data Science',\n",
       "   'Featured',\n",
       "   'Financing',\n",
       "   'Full Stack Web Development',\n",
       "   'Tips for Prospective Students'],\n",
       "  'content': '\\nDeciding to transition into a tech career is a big step and a more significant commitment. Often after deciding to commit to a journey of this nature, the main obstacle is finding a way to finance your training.\\nAt Codeup, we recognize that many of our students are career transitioners, and attending one of our programs can sometimes require sacrifice. Luckily, we have several ways to help you finance your career transition, ultimately leading to that new career you’ve decided to pursue.\\nPrograms\\nWe offer three different accelerated coding bootcamps at Codeup including Full-Stack Web Development, Cloud Administration, and Data Science. These are all instructor-led and designed to quickly equip you with the skills and knowledge to secure an entry-level position in-field.\\nGetting Started\\nFor all of our programs, a $1,000 deposit one week before a student’s first day of class is all we require in order to solidify a seat in the starting cohort.\\nPayment Options\\nFinding a payment option that suits your needs is feasible with our different financing options.\\n\\nSelf-Pay: If you opt to pay out of pocket, 50% of the balance will be due on the first day of class, and the remaining 50% will be due 30 days after the first day of class\\nLoans: We have three loan partners that offer flexible repayment, including no payments until 6 months after graduating from our program!\\nGrants: With multiple options available, our grant partners will work to help you find aid to offset the cost of attendance\\nScholarships: We offer seven different internal scholarships, including Women in Tech, Annie Easley, Minorities in Tech, Pride, Veterans, First-Responders and Covid-19 Relief.\\nVA Benefits: We proudly accept VA benefits as a form of payment for veterans looking to transition to a career in tech. Our Dallas campus specifically accepts VET TEC, and our San Antonio campus accepts VET TEC, GI Bill®/Chapter 33, VRRAP, and Vocational Rehabilitation.\\n\\nFind a complete breakdown by campus of all of our financial aid options here.\\nIf you’re interested in jumpstarting your career in tech with Codeup, apply today and chat with someone from our admissions or financial aid team to get you setup in an upcoming cohort! If you aren’t quite ready to apply, click here to request more information on our programs, and we’ll help you decide which direction is best for you.\\n'},\n",
       " {'title': 'Tips for Women Beginning a Career in Tech',\n",
       "  'date_published': 'Sep 23, 2022',\n",
       "  'category': ['Tips for Prospective Students'],\n",
       "  'content': '\\nCodeup strongly values diversity, and inclusion. In honor of American Business Women’s Day, we’d like to share eight tips and pieces of advice from Codeup’s women in tech for women looking to begin their careers in tech!\\n\\n“Be confident in what you’re saying. If you’re speaking it’s because you have something to say.”\\n“Don’t over apologize (I do this way too often).”\\n“Be open and willing to speak up to your colleagues on how they can be supportive to everyone in the environment.”\\n“Band with other women to support each other on y’alls journey.”\\n“Find a mentor (and don’t limit yourself to just women mentors, as there aren’t many out there). A mentor can help you establish your career goals, navigate your journey, provide emotional support or motivation, and ultimately help you succeed.”\\n“Do not dismiss or shrug off “humor.” Call out racist, sexist, ableist, etc., comments. Stop letting work colleagues get away with bad behavior. Do this quickly, so it isn’t something that continues to happen.”\\n“Don’t be afraid to ask questions. The other three guys that were hired at the same time as I was NEVER asked any questions, but it turns out they were just as lost as I was. Once I started asking questions in our training meetings, they all started asking away as well! I thought they all understood what was going on, and being the only female in the group, I didn’t want to stick out. This had been holding me back. Instead of being afraid that you will come off as “not getting it”, you will instead hear “That’s a really good question!” or “I’m glad you asked that!”.”\\n“We belong here. Remind yourself of that when you doubt yourself. Because you will. I did. But I belong. And you do, too. So say it like a mantra – I belong here. And believe it.”\\n\\nCodeup works hard to close the gender inequality gap, and to diversify the tech world by producing a unique blend of tech talent. We also offer a Women in Tech scholarship open to anyone who identifies as a woman. Our goal is to make a career in tech accessible to all.\\nJoin us on our journey of empowering women in tech today! Apply or request more information on our programs to jumpstart your career in tech.\\n'},\n",
       " {'title': 'What is Cloud Computing and AWS?',\n",
       "  'date_published': 'Sep 13, 2022',\n",
       "  'category': ['Cloud Administration', 'Tips for Prospective Students'],\n",
       "  'content': '\\nWith many companies switching to cloud services and implementing cloud infrastructure in their practices, many of us may be wondering…what is cloud computing, and what is AWS?\\nHopefully, this beginner-friendly guide will answer these questions and give you a foundational understanding of AWS and how cloud infrastructure differs from traditional IT.\\nWhat is cloud computing?\\nCloud computing is data hosted via the internet by an independent party. This independent party extends its infrastructure to customers with a pay-as-you-go pricing model.\\nCloud Service Providers\\nRecently, more organizations have given up physical data centers and are transitioning to the Cloud for their needs. The following are the top Cloud Infrastructure Services providers in 2022:\\n\\nAmazon Web Services (AWS)\\nMicrosoft Azure\\nGoogle Cloud Platform (GCP)\\n\\nAWS| Amazon Web Services\\nAt Codeup, our Cloud Administration program curriculum focuses on AWS. We prepare students to attempt two certification exams:\\n\\nAWS Cloud Practitioner Exam\\nAWS Solutions Architect Associate Exam\\n\\nAWS is the most mature of the cloud service providers, and the lead market provider of cloud services. AWS offers over 200 services, operating globally at a low cost.\\nCloud-Based Infrastructure vs. Traditional IT\\nCloud-Based Infrastructure\\n\\nSelect the right resource for your organization based on needs such as power, storage, speed, and network, and easily make adjustments as needed\\nYou only pay for what you use\\nDeploying infrastructure globally is easy and achievable in minutes\\nThere are no customer costs associated with maintenance, updates, or licensing\\nSecurity and fault tolerance mechanisms are taken care of by the cloud service provider\\nUser data is saved at all times and protected in multiple data centers within a region so in the case of an emergency or disaster, service remains uninterrupted\\nOperating in the cloud is all automated\\n24/7 trained IT staff is available for customer support\\n\\nTraditional IT\\n\\nOrganizations will need to acquire and setup servers independently and manually\\nThe organization is responsible for maintenance and hardware checkups\\nThe organization is responsible for backing up data and setting up a disaster recovery plan\\nAn IT staff will need to be hired by the organization\\nWhen scaling up, it is necessary to acquire more hardware to meet the needs of the organization\\nScaling up or down is manual and time-consuming\\nRequires a lot of up front capital to purchase the necessary hardware\\n\\nIf you’re interested in jumpstarting your career in tech, and you’re looking into cloud computing our Cloud Administration program may be right for you! Request more information to learn more, and check out some of our 100% free workshops to see if it’s a good fit. When you’re ready, apply to get started on your Codeup journey! We hope to hear from you soon.\\n'}]"
      ]
     },
     "execution_count": 11,
     "metadata": {},
     "output_type": "execute_result"
    }
   ],
   "source": [
    "#Run my function to make sure it works!\n",
    "article_info = get_blog_articles(links)\n",
    "article_info"
   ]
  },
  {
   "cell_type": "markdown",
   "id": "ced8b285",
   "metadata": {},
   "source": [
    "## Exercise 2\n",
    "\n",
    "News Articles\n",
    "\n",
    "We will now be scraping text data from [inshorts](https://inshorts.com/), a website that provides a brief overview of many different topics.\n",
    "\n",
    "Write a function that scrapes the news articles for the following topics:\n",
    "\n",
    "Business  \n",
    "Sports  \n",
    "Technology  \n",
    "Entertainment  \n",
    "\n",
    "The end product of this should be a function named get_news_articles that returns a list of dictionaries, where each dictionary has this shape:"
   ]
  },
  {
   "cell_type": "code",
   "execution_count": 12,
   "id": "f261a52b",
   "metadata": {},
   "outputs": [
    {
     "data": {
      "text/plain": [
       "'\\n\\n\\n\\n\\n    /* The Modal (background) */\\n    .modal_contact {\\n        display: none; /* Hidden by default */\\n        position: fixed; /* Stay in place */\\n        z-index: 8; /* Sit on top */\\n        left: 0;\\n        top: 0;\\n        width: 100%; /* Full width */\\n        height: 100%;\\n        overflow: auto; /* Enable scroll if needed */\\n        background-color: rgb(0,0,0); /* Fallback color */\\n      '"
      ]
     },
     "execution_count": 12,
     "metadata": {},
     "output_type": "execute_result"
    }
   ],
   "source": [
    "#Make a request of the business page\n",
    "response2 = get('https://inshorts.com/en/read/business')\n",
    "soup2 = BeautifulSoup(response2.content, 'html.parser')\n",
    "soup2.text[:400]"
   ]
  },
  {
   "cell_type": "code",
   "execution_count": 13,
   "id": "af765ed3",
   "metadata": {},
   "outputs": [
    {
     "data": {
      "text/plain": [
       "[<span itemprop=\"headline\">HCLTech adds highest-ever 10,339 freshers, reports 23.8% attrition in Jul-Sept</span>,\n",
       " <span itemprop=\"headline\">11 lakh railway employees to get 78 days' wages as productivity bonus</span>,\n",
       " <span itemprop=\"headline\">Moonlighting a question of ethics, not legalities: Wipro CEO</span>,\n",
       " <span itemprop=\"headline\">Retail inflation averages at 7.02% in Jul-Sept, down from 7.28% in Apr-Jun</span>,\n",
       " <span itemprop=\"headline\">Mercedes-Benz, Microsoft collaborate to improve auto production</span>,\n",
       " <span itemprop=\"headline\">Wipro to give 100% variable pay to 85% of employees in Q2 FY23: CEO</span>,\n",
       " <span itemprop=\"headline\">MobiKwik raises more debt, changes ESOP policy: Report</span>,\n",
       " <span itemprop=\"headline\">India-UK FTA on 'verge of collapse' over visa comments: Report</span>,\n",
       " <span itemprop=\"headline\">OPEC cuts 2022 oil demand growth for 4th time amid rising inflation</span>,\n",
       " <span itemprop=\"headline\">HCL Tech net profit increases 7% to ₹3,489 crore in Q2</span>,\n",
       " <span itemprop=\"headline\">India's factory output in August contracts for the first time in 18 months</span>,\n",
       " <span itemprop=\"headline\">Govt scraps privatisation of Bhadravati steel plant on low bidder interest</span>,\n",
       " <span itemprop=\"headline\">Rupee drops 14 paise to close at 82.35 against US dollar</span>,\n",
       " <span itemprop=\"headline\">Wipro registers ₹2,659 crore net profit in Q2 FY23; sees Y-o-Y decline of 9%</span>,\n",
       " <span itemprop=\"headline\">India's projected debt ratio to be 84% of GDP: IMF</span>,\n",
       " <span itemprop=\"headline\">PVR receives shareholders approval for merger with INOX Leisure</span>,\n",
       " <span itemprop=\"headline\">NHAI's InvIT raises funds to finance 3 additional road projects</span>,\n",
       " <span itemprop=\"headline\">India extends validity for sugar exports to US under quota till December 31</span>,\n",
       " <span itemprop=\"headline\">India's geospatial economy to cross ₹63,000 crore by 2025: Minister</span>,\n",
       " <span itemprop=\"headline\">Indian, US oil and gas companies sign 4 MoUs for clean energy partnership</span>,\n",
       " <span itemprop=\"headline\">Fireside Ventures raises $225 million for third fund</span>,\n",
       " <span itemprop=\"headline\">Adda247 raises $35 million led by WestBridge Capital, Google and Info Edge</span>,\n",
       " <span itemprop=\"headline\">RBI asks entities to stop taking ratings from Brickwork Ratings</span>,\n",
       " <span itemprop=\"headline\">LIC sells over 2% stake in Power Grid for ₹3,079 crore in 5 months</span>,\n",
       " <span itemprop=\"headline\">Indian energy firms come together to develop carbon market</span>]"
      ]
     },
     "execution_count": 13,
     "metadata": {},
     "output_type": "execute_result"
    }
   ],
   "source": [
    "#Access the titles\n",
    "titles = soup2.find_all('span', itemprop='headline')\n",
    "titles"
   ]
  },
  {
   "cell_type": "code",
   "execution_count": 14,
   "id": "8a5e9873",
   "metadata": {},
   "outputs": [
    {
     "data": {
      "text/plain": [
       "[<div itemprop=\"articleBody\">HCLTech reported its highest-ever hiring of 10,339 freshers in July-September quarter, MD and CEO C Vijayakumar said on Wednesday. HCLTech's attrition rate in the quarter stood at 23.8%, same as that in April-June quarter. Meanwhile, the firm reported net employee addition of 8,359 employees in Q2 FY23, up from net employee addition of 2,089 employees in Q1 FY23.</div>,\n",
       " <div itemprop=\"articleBody\">Union Minister Anurag Thakur on Wednesday announced that the Centre has approved a productivity-linked bonus equivalent to the wage of 78 days for eligible non-gazetted railway employees. This will benefit more than 11 lakh non-gazetted railway employees and it will cost the government approximately ₹1,832 crore. The maximum amount payable per eligible railway employee is ₹17,951 for 78 days.</div>,\n",
       " <div itemprop=\"articleBody\">On being asked whether moonlighting is legal or illegal, Wipro CEO Thierry Delaporte said, \"It isn't a question of legalities, it's a question of ethics.\" He added, \"We don't believe that it is right to have two jobs having a conflict of interest.\" He further said, \"If other companies have no problem with that, we respect that.\"</div>,\n",
       " <div itemprop=\"articleBody\">Retail inflation in India averaged at 7.02% in the July-September 2022 quarter, down from the 7.28% average inflation recorded in the April-June 2022 quarter, data from the Statistics Ministry released on Wednesday showed. Average inflation was at 6.34% in the January-March quarter of this year. Retail inflation was at 7.41% in September, up from 7% in August.</div>,\n",
       " <div itemprop=\"articleBody\">Mercedes-Benz and Microsoft have collaborated to use Microsoft Cloud for a data platform to improve production efficiency at auto plants around the world. According to a statement, the data platform is called MO360, and is presently available in Europe, the Middle East and Africa. The collaboration is aiming for a 20% increase in vehicle production efficiency by 2025. </div>,\n",
       " <div itemprop=\"articleBody\">IT services firm Wipro's CEO Thierry Delaporte has said that the company will pay out 100% of variable pay to 85% of its employees for the second quarter. The remaining 15% of the employees will reportedly get their variable pay as per policy. The company's net profit fell 9.27% YoY to ₹2,659 crore in Q2 FY22.</div>,\n",
       " <div itemprop=\"articleBody\">MobiKwik has raised total debt of ₹55 crore since August from BlackSoil and Alternative Investment Fund, Karnation, according to two Registrar of Companies filings. MobiKwik's board passed a resolution for allotment of 900 non-convertible debentures, in tranches of 700 and 200, to raise ₹35 crore and ₹10 crore from BlackSoil. MobiKwik has also reportedly made changes to its ESOP policy.</div>,\n",
       " <div itemprop=\"articleBody\">After UK Home Secretary Suella Braverman questioned action over Indians overstaying their visa, the Free Trade Agreement between the two countries is on the verge of collapse, according to a UK media report. It stated that ministers of the Indian government were \"shocked and dismayed\" by Braverman's comments. Braverman called Indians the \"largest group of people who overstay\" their visas. </div>,\n",
       " <div itemprop=\"articleBody\">Organization of the Petroleum Exporting Countries (OPEC) cut its 2022 forecast for growth in world oil demand for the fourth time since April. OPEC said that oil demand will increase by 2.7% to 2.64 million barrels per day (bpd) in 2022, down 460,000 bpd from its previous forecast. It has also cut oil demand for next year by 3,60,000 bpd.</div>,\n",
       " <div itemprop=\"articleBody\">IT major HCL Technologies announced that its consolidated net profit saw a 7.05% year-on-year growth, taking it to ₹3,489 crore in the quarter ended September 2022. The company registered a revenue of ₹24,686 crore, clocking a 19.5% growth over ₹20,655 crore last year. Sequentially, revenue rose 5.2% from ₹23,464 crore in quarter ended June 2022.</div>,\n",
       " <div itemprop=\"articleBody\">India's Index of Industrial Production contracted 0.8% year-on-year in August for the first time in 18 months, according to government data released on Wednesday. Month-on-month, the index declined 2.3% compared with a decline of 2.9% in July. Mining output fell 3.9%, while manufacturing activity fell by 0.7%, indicating a broader slowdown in the country.</div>,\n",
       " <div itemprop=\"articleBody\">The Department of Investment and Public Asset Management (DIPAM) said the privatisation of SAIL’s Bhadravati steel plant has been scrapped due to low bidder interest. The transaction was annulled with the approval of Alternative Mechanism (Empowered Group of Ministers). DIPAM said multiple Expressions of Interest (EoIs) had been received and qualified bidders had conducted due diligence.</div>,\n",
       " <div itemprop=\"articleBody\">The Indian rupee declined by 14 paise to close at 82.35 against the US dollar on Wednesday. At the interbank foreign exchange market, the local currency opened at 82.32 and witnessed an intra-day high of 82.15 and a low of 82.37 against the American currency. The rupee touched a new record low of 82.67 against the US dollar on Monday.</div>,\n",
       " <div itemprop=\"articleBody\">IT services firm Wipro released its Q2 results, reporting consolidated net profit of ₹2,659 crore, which was 9% less than ₹2,930 crore in the same period last year. The company's revenue from operations stood at ₹22,539.7 crore, a 14.60% increase over ₹19,667.4 crore in the previous year. Sequentially, profit rose 3.71% from ₹2563.6 crore in the previous quarter.</div>,\n",
       " <div itemprop=\"articleBody\">Paolo Mauro, Deputy Director, Fiscal Affairs Department, International Monetary Fund, said India's debt ratio is projected to be 84% of its GDP by the end of 2022. Mauro stressed that it is important for India to have a very clear medium-term objective on the fiscal. \"It would be very important to give reassurance that things are under control,\" he added.</div>,\n",
       " <div itemprop=\"articleBody\">Multiplex operator PVR said that it has received approval from its shareholders for the proposed merger with rivals INOX Leisure. PVR convened a meeting of its shareholders on Tuesday, following the directions of the Mumbai bench of the National Company Law Tribunal (NCLT). The proposal was passed by over 99% of the number of valid votes cast.</div>,\n",
       " <div itemprop=\"articleBody\">National Highways Infra Trust has raised ₹1,430 crore through the placement of its units for part funding its acquisition of three additional road projects from NHAI. According to official statement, investors include Canada Pension Plan Investment Board, SBI and TATA AIG, among other investors. Units were subscribed at a premium of ₹109 over the floor price of ₹107.12.</div>,\n",
       " <div itemprop=\"articleBody\">Directorate General of Foreign Trade (DGFT) said that the deadline to export raw sugar to the US under Tariff-Rate Quota (TRQ) has been extended till December 31. TRQ is the quota to export products to the US at relatively low tariffs. Total sugar exports to the US under TRQ would be around 10,475 tonnes during 2022, DGFT said in May.</div>,\n",
       " <div itemprop=\"articleBody\">Union Minister Jitendra Singh on Tuesday said that India's geospatial economy is expected to cross ₹63,000 crore by 2025 at a growth rate of 12.8%. He further said it will provide employment to more than 10 lakh people mainly through geospatial startups. He said this while addressing the Second United Nations World Geospatial Information Congress (UN-WGIC) 2022 in Hyderabad.</div>,\n",
       " <div itemprop=\"articleBody\">Indian and American gas and oil companies signed four major MoUs to strengthen the bilateral strategic clean energy partnership. The MoUs were signed by the Minister of Petroleum and Natural Gas Hardeep Singh Puri during a round table in Houston. Indian Oil, Aavantika Gas Limited, Engineers India Limited and Indraprastha Gas Limited were the companies to sign the MoU.</div>,\n",
       " <div itemprop=\"articleBody\">Fireside Ventures﻿ announced that it has raised third fund at $225 million (₹1,830 crore), which is the largest capital raised yet by the five-year-old firm. The early-stage investor said the new fund would invest in about 25-30 Indian startups focusing on the health and wellness, lifestyle and consumer goods categories. Investors include SBI, ITC and Premji Invest, among other firms.</div>,\n",
       " <div itemprop=\"articleBody\">Ed-tech platform ﻿Adda247 announced raising $35 million in a round led by WestBridge Capital. The round also saw participation from Google as a new investor and existing investors, Info Edge and Asha Impact. The company said the funds will be used to enhance its tech and product profile, expand its student counselling team, and hiring for some key leadership roles.</div>,\n",
       " <div itemprop=\"articleBody\">The Reserve Bank of India has asked entities and market participants to stop taking fresh ratings and credit evaluations from Brickwork Ratings India Private Limited. On October 6, SEBI asked the credit rating agency to wind down operations and cancelled its Certificate of Registration (CoR). The instructions regarding existing ratings issued by Brickwork shall be advised separately, RBI said.</div>,\n",
       " <div itemprop=\"articleBody\">Life Insurance Corporation of India (LIC) has sold over 2% of its holding in Power Grid Corporation over the past five months for ₹3,079.43 crore. \"Corporation's shareholding in Power Grid...has diluted from 36,99,02,170 to 23,01,82,028 equity shares decreasing its shareholding from 5.303% to 3.3% of the paid-up capital of the said company,\" LIC said.</div>,\n",
       " <div itemprop=\"articleBody\">An alliance of key stakeholders in the carbon markets, the Carbon Markets Association of India (CMAI), has been formed to develop a carbon credit market to achieve energy transition goals. CMAI President Manish Dabkara said CMAI would act as a mediator between government and industries. The association includes Gautam Adani's Adani Group and Dabkara's EKI Energy Services, among other firms.</div>]"
      ]
     },
     "execution_count": 14,
     "metadata": {},
     "output_type": "execute_result"
    }
   ],
   "source": [
    "#Access the summaries\n",
    "summaries = soup2.find_all('div', itemprop='articleBody')\n",
    "summaries"
   ]
  },
  {
   "cell_type": "code",
   "execution_count": 15,
   "id": "fe4dbcef",
   "metadata": {},
   "outputs": [
    {
     "data": {
      "text/plain": [
       "(25, 25)"
      ]
     },
     "execution_count": 15,
     "metadata": {},
     "output_type": "execute_result"
    }
   ],
   "source": [
    "#Make sure I'm grabbing an equal number of titles and summaries\n",
    "len(titles), len(summaries)"
   ]
  },
  {
   "cell_type": "code",
   "execution_count": 16,
   "id": "21f690d6",
   "metadata": {},
   "outputs": [],
   "source": [
    "#Define a function to scrape articles from one topic\n",
    "def scrape_one_page(topic):\n",
    "    \n",
    "    base_url = 'https://inshorts.com/en/read/'\n",
    "    \n",
    "    response = get(base_url + topic)\n",
    "    \n",
    "    soup = BeautifulSoup(response.content, 'html.parser')\n",
    "    \n",
    "    titles = soup.find_all('span', itemprop='headline')\n",
    "    \n",
    "    summaries = soup.find_all('div', itemprop='articleBody')\n",
    "    \n",
    "    summary_list = []\n",
    "    \n",
    "    for i in range(len(titles)):\n",
    "        \n",
    "        temp_dict = {}\n",
    "        \n",
    "        temp_dict['title'] = titles[i].text\n",
    "        \n",
    "        temp_dict['content'] = summaries[i].text\n",
    "        \n",
    "        temp_dict['category'] = topic\n",
    "        \n",
    "        summary_list.append(temp_dict)\n",
    "        \n",
    "    return summary_list    "
   ]
  },
  {
   "cell_type": "code",
   "execution_count": 17,
   "id": "604a12fd",
   "metadata": {},
   "outputs": [
    {
     "data": {
      "text/plain": [
       "[{'title': 'HCLTech adds highest-ever 10,339 freshers, reports 23.8% attrition in Jul-Sept',\n",
       "  'content': \"HCLTech reported its highest-ever hiring of 10,339 freshers in July-September quarter, MD and CEO C Vijayakumar said on Wednesday. HCLTech's attrition rate in the quarter stood at 23.8%, same as that in April-June quarter. Meanwhile, the firm reported net employee addition of 8,359 employees in Q2 FY23, up from net employee addition of 2,089 employees in Q1 FY23.\",\n",
       "  'category': 'business'},\n",
       " {'title': \"11 lakh railway employees to get 78 days' wages as productivity bonus\",\n",
       "  'content': 'Union Minister Anurag Thakur on Wednesday announced that the Centre has approved a productivity-linked bonus equivalent to the wage of 78 days for eligible non-gazetted railway employees. This will benefit more than 11 lakh non-gazetted railway employees and it will cost the government approximately ₹1,832 crore. The maximum amount payable per eligible railway employee is ₹17,951 for 78 days.',\n",
       "  'category': 'business'},\n",
       " {'title': 'Moonlighting a question of ethics, not legalities: Wipro CEO',\n",
       "  'content': 'On being asked whether moonlighting is legal or illegal, Wipro CEO Thierry Delaporte said, \"It isn\\'t a question of legalities, it\\'s a question of ethics.\" He added, \"We don\\'t believe that it is right to have two jobs having a conflict of interest.\" He further said, \"If other companies have no problem with that, we respect that.\"',\n",
       "  'category': 'business'},\n",
       " {'title': 'Retail inflation averages at 7.02% in Jul-Sept, down from 7.28% in Apr-Jun',\n",
       "  'content': 'Retail inflation in India averaged at 7.02% in the July-September 2022 quarter, down from the 7.28% average inflation recorded in the April-June 2022 quarter, data from the Statistics Ministry released on Wednesday showed. Average inflation was at 6.34% in the January-March quarter of this year. Retail inflation was at 7.41% in September, up from 7% in August.',\n",
       "  'category': 'business'},\n",
       " {'title': 'Mercedes-Benz, Microsoft collaborate to improve auto production',\n",
       "  'content': 'Mercedes-Benz and Microsoft have collaborated to use Microsoft Cloud for a data platform to improve production efficiency at auto plants around the world. According to a statement, the data platform is called MO360, and is presently available in Europe, the Middle East and Africa. The collaboration is aiming for a 20% increase in vehicle production efficiency by 2025. ',\n",
       "  'category': 'business'},\n",
       " {'title': 'Wipro to give 100% variable pay to 85% of employees in Q2 FY23: CEO',\n",
       "  'content': \"IT services firm Wipro's CEO Thierry Delaporte has said that the company will pay out 100% of variable pay to 85% of its employees for the second quarter. The remaining 15% of the employees will reportedly get their variable pay as per policy. The company's net profit fell 9.27% YoY to ₹2,659 crore in Q2 FY22.\",\n",
       "  'category': 'business'},\n",
       " {'title': 'MobiKwik raises more debt, changes ESOP policy: Report',\n",
       "  'content': \"MobiKwik has raised total debt of ₹55 crore since August from BlackSoil and Alternative Investment Fund, Karnation, according to two Registrar of Companies filings. MobiKwik's board passed a resolution for allotment of 900 non-convertible debentures, in tranches of 700 and 200, to raise ₹35 crore and ₹10 crore from BlackSoil. MobiKwik has also reportedly made changes to its ESOP policy.\",\n",
       "  'category': 'business'},\n",
       " {'title': \"India-UK FTA on 'verge of collapse' over visa comments: Report\",\n",
       "  'content': 'After UK Home Secretary Suella Braverman questioned action over Indians overstaying their visa, the Free Trade Agreement between the two countries is on the verge of collapse, according to a UK media report. It stated that ministers of the Indian government were \"shocked and dismayed\" by Braverman\\'s comments. Braverman called Indians the \"largest group of people who overstay\" their visas. ',\n",
       "  'category': 'business'},\n",
       " {'title': 'OPEC cuts 2022 oil demand growth for 4th time amid rising inflation',\n",
       "  'content': 'Organization of the Petroleum Exporting Countries (OPEC) cut its 2022 forecast for growth in world oil demand for the fourth time since April. OPEC said that oil demand will increase by 2.7% to 2.64 million barrels per day (bpd) in 2022, down 460,000 bpd from its previous forecast. It has also cut oil demand for next year by 3,60,000 bpd.',\n",
       "  'category': 'business'},\n",
       " {'title': 'HCL Tech net profit increases 7% to ₹3,489 crore in Q2',\n",
       "  'content': 'IT major HCL Technologies announced that its consolidated net profit saw a 7.05% year-on-year growth, taking it to ₹3,489 crore in the quarter ended September 2022. The company registered a revenue of ₹24,686 crore, clocking a 19.5% growth over ₹20,655 crore last year. Sequentially, revenue rose 5.2% from ₹23,464 crore in quarter ended June 2022.',\n",
       "  'category': 'business'},\n",
       " {'title': \"India's factory output in August contracts for the first time in 18 months\",\n",
       "  'content': \"India's Index of Industrial Production contracted 0.8% year-on-year in August for the first time in 18 months, according to government data released on Wednesday. Month-on-month, the index declined 2.3% compared with a decline of 2.9% in July. Mining output fell 3.9%, while manufacturing activity fell by 0.7%, indicating a broader slowdown in the country.\",\n",
       "  'category': 'business'},\n",
       " {'title': 'Govt scraps privatisation of Bhadravati steel plant on low bidder interest',\n",
       "  'content': 'The Department of Investment and Public Asset Management (DIPAM) said the privatisation of SAIL’s Bhadravati steel plant has been scrapped due to low bidder interest. The transaction was annulled with the approval of Alternative Mechanism (Empowered Group of Ministers). DIPAM said multiple Expressions of Interest (EoIs) had been received and qualified bidders had conducted due diligence.',\n",
       "  'category': 'business'},\n",
       " {'title': 'Rupee drops 14 paise to close at 82.35 against US dollar',\n",
       "  'content': 'The Indian rupee declined by 14 paise to close at 82.35 against the US dollar on Wednesday. At the interbank foreign exchange market, the local currency opened at 82.32 and witnessed an intra-day high of 82.15 and a low of 82.37 against the American currency. The rupee touched a new record low of 82.67 against the US dollar on Monday.',\n",
       "  'category': 'business'},\n",
       " {'title': 'Wipro registers ₹2,659 crore net profit in Q2 FY23; sees Y-o-Y decline of 9%',\n",
       "  'content': \"IT services firm Wipro released its Q2 results, reporting consolidated net profit of ₹2,659 crore, which was 9% less than ₹2,930 crore in the same period last year. The company's revenue from operations stood at ₹22,539.7 crore, a 14.60% increase over ₹19,667.4 crore in the previous year. Sequentially, profit rose 3.71% from ₹2563.6 crore in the previous quarter.\",\n",
       "  'category': 'business'},\n",
       " {'title': \"India's projected debt ratio to be 84% of GDP: IMF\",\n",
       "  'content': 'Paolo Mauro, Deputy Director, Fiscal Affairs Department, International Monetary Fund, said India\\'s debt ratio is projected to be 84% of its GDP by the end of 2022. Mauro stressed that it is important for India to have a very clear medium-term objective on the fiscal. \"It would be very important to give reassurance that things are under control,\" he added.',\n",
       "  'category': 'business'},\n",
       " {'title': 'PVR receives shareholders approval for merger with INOX Leisure',\n",
       "  'content': 'Multiplex operator PVR said that it has received approval from its shareholders for the proposed merger with rivals INOX Leisure. PVR convened a meeting of its shareholders on Tuesday, following the directions of the Mumbai bench of the National Company Law Tribunal (NCLT). The proposal was passed by over 99% of the number of valid votes cast.',\n",
       "  'category': 'business'},\n",
       " {'title': \"NHAI's InvIT raises funds to finance 3 additional road projects\",\n",
       "  'content': 'National Highways Infra Trust has raised ₹1,430 crore through the placement of its units for part funding its acquisition of three additional road projects from NHAI. According to official statement, investors include Canada Pension Plan Investment Board, SBI and TATA AIG, among other investors. Units were subscribed at a premium of ₹109 over the floor price of ₹107.12.',\n",
       "  'category': 'business'},\n",
       " {'title': 'India extends validity for sugar exports to US under quota till December 31',\n",
       "  'content': 'Directorate General of Foreign Trade (DGFT) said that the deadline to export raw sugar to the US under Tariff-Rate Quota (TRQ) has been extended till December 31. TRQ is the quota to export products to the US at relatively low tariffs. Total sugar exports to the US under TRQ would be around 10,475 tonnes during 2022, DGFT said in May.',\n",
       "  'category': 'business'},\n",
       " {'title': \"India's geospatial economy to cross ₹63,000 crore by 2025: Minister\",\n",
       "  'content': \"Union Minister Jitendra Singh on Tuesday said that India's geospatial economy is expected to cross ₹63,000 crore by 2025 at a growth rate of 12.8%. He further said it will provide employment to more than 10 lakh people mainly through geospatial startups. He said this while addressing the Second United Nations World Geospatial Information Congress (UN-WGIC) 2022 in Hyderabad.\",\n",
       "  'category': 'business'},\n",
       " {'title': 'Indian, US oil and gas companies sign 4 MoUs for clean energy partnership',\n",
       "  'content': 'Indian and American gas and oil companies signed four major MoUs to strengthen the bilateral strategic clean energy partnership. The MoUs were signed by the Minister of Petroleum and Natural Gas Hardeep Singh Puri during a round table in Houston. Indian Oil, Aavantika Gas Limited, Engineers India Limited and Indraprastha Gas Limited were the companies to sign the MoU.',\n",
       "  'category': 'business'},\n",
       " {'title': 'Fireside Ventures raises $225 million for third fund',\n",
       "  'content': 'Fireside Ventures\\ufeff announced that it has raised third fund at $225 million (₹1,830 crore), which is the largest capital raised yet by the five-year-old firm. The early-stage investor said the new fund would invest in about 25-30 Indian startups focusing on the health and wellness, lifestyle and consumer goods categories. Investors include SBI, ITC and Premji Invest, among other firms.',\n",
       "  'category': 'business'},\n",
       " {'title': 'Adda247 raises $35 million led by WestBridge Capital, Google and Info Edge',\n",
       "  'content': 'Ed-tech platform \\ufeffAdda247 announced raising $35 million in a round led by WestBridge Capital. The round also saw participation from Google as a new investor and existing investors, Info Edge and Asha Impact. The company said the funds will be used to enhance its tech and product profile, expand its student counselling team, and hiring for some key leadership roles.',\n",
       "  'category': 'business'},\n",
       " {'title': 'RBI asks entities to stop taking ratings from Brickwork Ratings',\n",
       "  'content': 'The Reserve Bank of India has asked entities and market participants to stop taking fresh ratings and credit evaluations from Brickwork Ratings India Private Limited. On October 6, SEBI asked the credit rating agency to wind down operations and cancelled its Certificate of Registration (CoR). The instructions regarding existing ratings issued by Brickwork shall be advised separately, RBI said.',\n",
       "  'category': 'business'},\n",
       " {'title': 'LIC sells over 2% stake in Power Grid for ₹3,079 crore in 5 months',\n",
       "  'content': 'Life Insurance Corporation of India (LIC) has sold over 2% of its holding in Power Grid Corporation over the past five months for ₹3,079.43 crore. \"Corporation\\'s shareholding in Power Grid...has diluted from 36,99,02,170 to 23,01,82,028 equity shares decreasing its shareholding from 5.303% to 3.3% of the paid-up capital of the said company,\" LIC said.',\n",
       "  'category': 'business'},\n",
       " {'title': 'Indian energy firms come together to develop carbon market',\n",
       "  'content': \"An alliance of key stakeholders in the carbon markets, the Carbon Markets Association of India (CMAI), has been formed to develop a carbon credit market to achieve energy transition goals. CMAI President Manish Dabkara said CMAI would act as a mediator between government and industries. The association includes Gautam Adani's Adani Group and Dabkara's EKI Energy Services, among other firms.\",\n",
       "  'category': 'business'}]"
      ]
     },
     "execution_count": 17,
     "metadata": {},
     "output_type": "execute_result"
    }
   ],
   "source": [
    "#Test my function on the business page\n",
    "business_test = scrape_one_page('business')\n",
    "business_test"
   ]
  },
  {
   "cell_type": "code",
   "execution_count": 18,
   "id": "64708fb2",
   "metadata": {},
   "outputs": [],
   "source": [
    "#Define a function that will scrape information about an array of topics\n",
    "def get_news_articles():\n",
    "    \n",
    "    file = 'news_articles.json'\n",
    "    \n",
    "    if os.path.exists(file):\n",
    "        \n",
    "        with open(file) as f:\n",
    "            \n",
    "            return json.load(f)\n",
    "    \n",
    "    topic_list = ['business', 'sports', 'technology', 'entertainment']\n",
    "    \n",
    "    final_list = []\n",
    "    \n",
    "    for topic in topic_list:\n",
    "        \n",
    "        final_list.extend(scrape_one_page(topic))\n",
    "        \n",
    "    with open(file, 'w') as f:\n",
    "        \n",
    "        json.dump(final_list, f)\n",
    "        \n",
    "    return final_list    "
   ]
  },
  {
   "cell_type": "code",
   "execution_count": 19,
   "id": "74c3dbd2",
   "metadata": {},
   "outputs": [
    {
     "data": {
      "text/plain": [
       "[{'title': 'HCLTech adds highest-ever 10,339 freshers, reports 23.8% attrition in Jul-Sept',\n",
       "  'content': \"HCLTech reported its highest-ever hiring of 10,339 freshers in July-September quarter, MD and CEO C Vijayakumar said on Wednesday. HCLTech's attrition rate in the quarter stood at 23.8%, same as that in April-June quarter. Meanwhile, the firm reported net employee addition of 8,359 employees in Q2 FY23, up from net employee addition of 2,089 employees in Q1 FY23.\",\n",
       "  'category': 'business'},\n",
       " {'title': \"11 lakh railway employees to get 78 days' wages as productivity bonus\",\n",
       "  'content': 'Union Minister Anurag Thakur on Wednesday announced that the Centre has approved a productivity-linked bonus equivalent to the wage of 78 days for eligible non-gazetted railway employees. This will benefit more than 11 lakh non-gazetted railway employees and it will cost the government approximately ₹1,832 crore. The maximum amount payable per eligible railway employee is ₹17,951 for 78 days.',\n",
       "  'category': 'business'},\n",
       " {'title': 'Retail inflation averages at 7.02% in Jul-Sept, down from 7.28% in Apr-Jun',\n",
       "  'content': 'Retail inflation in India averaged at 7.02% in the July-September 2022 quarter, down from the 7.28% average inflation recorded in the April-June 2022 quarter, data from the Statistics Ministry released on Wednesday showed. Average inflation was at 6.34% in the January-March quarter of this year. Retail inflation was at 7.41% in September, up from 7% in August.',\n",
       "  'category': 'business'},\n",
       " {'title': 'Moonlighting a question of ethics, not legalities: Wipro CEO',\n",
       "  'content': 'On being asked whether moonlighting is legal or illegal, Wipro CEO Thierry Delaporte said, \"It isn\\'t a question of legalities, it\\'s a question of ethics.\" He added, \"We don\\'t believe that it is right to have two jobs having a conflict of interest.\" He further said, \"If other companies have no problem with that, we respect that.\"',\n",
       "  'category': 'business'},\n",
       " {'title': 'Mercedes-Benz, Microsoft collaborate to improve auto production',\n",
       "  'content': 'Mercedes-Benz and Microsoft have collaborated to use Microsoft Cloud for a data platform to improve production efficiency at auto plants around the world. According to a statement, the data platform is called MO360, and is presently available in Europe, the Middle East and Africa. The collaboration is aiming for a 20% increase in vehicle production efficiency by 2025. ',\n",
       "  'category': 'business'},\n",
       " {'title': 'Wipro to give 100% variable pay to 85% of employees in Q2 FY23: CEO',\n",
       "  'content': \"IT services firm Wipro's CEO Thierry Delaporte has said that the company will pay out 100% of variable pay to 85% of its employees for the second quarter. The remaining 15% of the employees will reportedly get their variable pay as per policy. The company's net profit fell 9.27% YoY to ₹2,659 crore in Q2 FY22.\",\n",
       "  'category': 'business'},\n",
       " {'title': 'MobiKwik raises more debt, changes ESOP policy: Report',\n",
       "  'content': \"MobiKwik has raised total debt of ₹55 crore since August from BlackSoil and Alternative Investment Fund, Karnation, according to two Registrar of Companies filings. MobiKwik's board passed a resolution for allotment of 900 non-convertible debentures, in tranches of 700 and 200, to raise ₹35 crore and ₹10 crore from BlackSoil. MobiKwik has also reportedly made changes to its ESOP policy.\",\n",
       "  'category': 'business'},\n",
       " {'title': \"India-UK FTA on 'verge of collapse' over visa comments: Report\",\n",
       "  'content': 'After UK Home Secretary Suella Braverman questioned action over Indians overstaying their visa, the Free Trade Agreement between the two countries is on the verge of collapse, according to a UK media report. It stated that ministers of the Indian government were \"shocked and dismayed\" by Braverman\\'s comments. Braverman called Indians the \"largest group of people who overstay\" their visas. ',\n",
       "  'category': 'business'},\n",
       " {'title': 'PVR receives shareholders approval for merger with INOX Leisure',\n",
       "  'content': 'Multiplex operator PVR said that it has received approval from its shareholders for the proposed merger with rivals INOX Leisure. PVR convened a meeting of its shareholders on Tuesday, following the directions of the Mumbai bench of the National Company Law Tribunal (NCLT). The proposal was passed by over 99% of the number of valid votes cast.',\n",
       "  'category': 'business'},\n",
       " {'title': 'Wipro registers ₹2,659 crore net profit in Q2 FY23; sees Y-o-Y decline of 9%',\n",
       "  'content': \"IT services firm Wipro released its Q2 results, reporting consolidated net profit of ₹2,659 crore, which was 9% less than ₹2,930 crore in the same period last year. The company's revenue from operations stood at ₹22,539.7 crore, a 14.60% increase over ₹19,667.4 crore in the previous year. Sequentially, profit rose 3.71% from ₹2563.6 crore in the previous quarter.\",\n",
       "  'category': 'business'},\n",
       " {'title': 'Govt scraps privatisation of Bhadravati steel plant on low bidder interest',\n",
       "  'content': 'The Department of Investment and Public Asset Management (DIPAM) said the privatisation of SAIL’s Bhadravati steel plant has been scrapped due to low bidder interest. The transaction was annulled with the approval of Alternative Mechanism (Empowered Group of Ministers). DIPAM said multiple Expressions of Interest (EoIs) had been received and qualified bidders had conducted due diligence.',\n",
       "  'category': 'business'},\n",
       " {'title': 'Adda247 raises $35 million led by WestBridge Capital, Google and Info Edge',\n",
       "  'content': 'Ed-tech platform \\ufeffAdda247 announced raising $35 million in a round led by WestBridge Capital. The round also saw participation from Google as a new investor and existing investors, Info Edge and Asha Impact. The company said the funds will be used to enhance its tech and product profile, expand its student counselling team, and hiring for some key leadership roles.',\n",
       "  'category': 'business'},\n",
       " {'title': 'HCL Tech net profit increases 7% to ₹3,489 crore in Q2',\n",
       "  'content': 'IT major HCL Technologies announced that its consolidated net profit saw a 7.05% year-on-year growth, taking it to ₹3,489 crore in the quarter ended September 2022. The company registered a revenue of ₹24,686 crore, clocking a 19.5% growth over ₹20,655 crore last year. Sequentially, revenue rose 5.2% from ₹23,464 crore in quarter ended June 2022.',\n",
       "  'category': 'business'},\n",
       " {'title': 'Indian, US oil and gas companies sign 4 MoUs for clean energy partnership',\n",
       "  'content': 'Indian and American gas and oil companies signed four major MoUs to strengthen the bilateral strategic clean energy partnership. The MoUs were signed by the Minister of Petroleum and Natural Gas Hardeep Singh Puri during a round table in Houston. Indian Oil, Aavantika Gas Limited, Engineers India Limited and Indraprastha Gas Limited were the companies to sign the MoU.',\n",
       "  'category': 'business'},\n",
       " {'title': \"India's geospatial economy to cross ₹63,000 crore by 2025: Minister\",\n",
       "  'content': \"Union Minister Jitendra Singh on Tuesday said that India's geospatial economy is expected to cross ₹63,000 crore by 2025 at a growth rate of 12.8%. He further said it will provide employment to more than 10 lakh people mainly through geospatial startups. He said this while addressing the Second United Nations World Geospatial Information Congress (UN-WGIC) 2022 in Hyderabad.\",\n",
       "  'category': 'business'},\n",
       " {'title': 'Indian energy firms come together to develop carbon market',\n",
       "  'content': \"An alliance of key stakeholders in the carbon markets, the Carbon Markets Association of India (CMAI), has been formed to develop a carbon credit market to achieve energy transition goals. CMAI President Manish Dabkara said CMAI would act as a mediator between government and industries. The association includes Gautam Adani's Adani Group and Dabkara's EKI Energy Services, among other firms.\",\n",
       "  'category': 'business'},\n",
       " {'title': \"India's factory output in August contracts for the first time in 18 months\",\n",
       "  'content': \"India's Index of Industrial Production contracted 0.8% year-on-year in August for the first time in 18 months, according to government data released on Wednesday. Month-on-month, the index declined 2.3% compared with a decline of 2.9% in July. Mining output fell 3.9%, while manufacturing activity fell by 0.7%, indicating a broader slowdown in the country.\",\n",
       "  'category': 'business'},\n",
       " {'title': 'LIC sells over 2% stake in Power Grid for ₹3,079 crore in 5 months',\n",
       "  'content': 'Life Insurance Corporation of India (LIC) has sold over 2% of its holding in Power Grid Corporation over the past five months for ₹3,079.43 crore. \"Corporation\\'s shareholding in Power Grid...has diluted from 36,99,02,170 to 23,01,82,028 equity shares decreasing its shareholding from 5.303% to 3.3% of the paid-up capital of the said company,\" LIC said.',\n",
       "  'category': 'business'},\n",
       " {'title': 'Fireside Ventures raises $225 million for third fund',\n",
       "  'content': 'Fireside Ventures\\ufeff announced that it has raised third fund at $225 million (₹1,830 crore), which is the largest capital raised yet by the five-year-old firm. The early-stage investor said the new fund would invest in about 25-30 Indian startups focusing on the health and wellness, lifestyle and consumer goods categories. Investors include SBI, ITC and Premji Invest, among other firms.',\n",
       "  'category': 'business'},\n",
       " {'title': 'OPEC cuts 2022 oil demand growth for 4th time amid rising inflation',\n",
       "  'content': 'Organization of the Petroleum Exporting Countries (OPEC) cut its 2022 forecast for growth in world oil demand for the fourth time since April. OPEC said that oil demand will increase by 2.7% to 2.64 million barrels per day (bpd) in 2022, down 460,000 bpd from its previous forecast. It has also cut oil demand for next year by 3,60,000 bpd.',\n",
       "  'category': 'business'},\n",
       " {'title': 'Rupee drops 14 paise to close at 82.35 against US dollar',\n",
       "  'content': 'The Indian rupee declined by 14 paise to close at 82.35 against the US dollar on Wednesday. At the interbank foreign exchange market, the local currency opened at 82.32 and witnessed an intra-day high of 82.15 and a low of 82.37 against the American currency. The rupee touched a new record low of 82.67 against the US dollar on Monday.',\n",
       "  'category': 'business'},\n",
       " {'title': \"India's projected debt ratio to be 84% of GDP: IMF\",\n",
       "  'content': 'Paolo Mauro, Deputy Director, Fiscal Affairs Department, International Monetary Fund, said India\\'s debt ratio is projected to be 84% of its GDP by the end of 2022. Mauro stressed that it is important for India to have a very clear medium-term objective on the fiscal. \"It would be very important to give reassurance that things are under control,\" he added.',\n",
       "  'category': 'business'},\n",
       " {'title': 'RBI asks entities to stop taking ratings from Brickwork Ratings',\n",
       "  'content': 'The Reserve Bank of India has asked entities and market participants to stop taking fresh ratings and credit evaluations from Brickwork Ratings India Private Limited. On October 6, SEBI asked the credit rating agency to wind down operations and cancelled its Certificate of Registration (CoR). The instructions regarding existing ratings issued by Brickwork shall be advised separately, RBI said.',\n",
       "  'category': 'business'},\n",
       " {'title': 'India extends validity for sugar exports to US under quota till December 31',\n",
       "  'content': 'Directorate General of Foreign Trade (DGFT) said that the deadline to export raw sugar to the US under Tariff-Rate Quota (TRQ) has been extended till December 31. TRQ is the quota to export products to the US at relatively low tariffs. Total sugar exports to the US under TRQ would be around 10,475 tonnes during 2022, DGFT said in May.',\n",
       "  'category': 'business'},\n",
       " {'title': \"NHAI's InvIT raises funds to finance 3 additional road projects\",\n",
       "  'content': 'National Highways Infra Trust has raised ₹1,430 crore through the placement of its units for part funding its acquisition of three additional road projects from NHAI. According to official statement, investors include Canada Pension Plan Investment Board, SBI and TATA AIG, among other investors. Units were subscribed at a premium of ₹109 over the floor price of ₹107.12.',\n",
       "  'category': 'business'},\n",
       " {'title': \"India players celebrate Hardik Pandya's birthday in a small plane, Karthik shares video\",\n",
       "  'content': 'Several Team India players including Dinesh Karthik, Rohit Sharma and Deepak Hooda celebrated all-rounder Hardik Pandya\\'s birthday in a small plane in Australia. Sharing a video, Karthik wrote, \"Celebrating birthdays on ground was too mainstream so we took it to the sky.\" In the video, Pandya can be seen sitting with the pilot apparently ahead of the take-off.',\n",
       "  'category': 'sports'},\n",
       " {'title': \"India's national record-holding discus thrower Kamalpreet banned for 3 years for doping\",\n",
       "  'content': \"Kamalpreet Kaur, who holds national record in women's discus throw, has been banned for three years for doping. The Athletics Integrity Unit stated that Kaur tested positive for a banned substance [stanozolol] in a test conducted on March 7 this year. Her period of ineligibility started from March 29 and all her results since March 7 stand null and void. \",\n",
       "  'category': 'sports'},\n",
       " {'title': \"Ganguly's removal as BCCI Prez another example of BJP's vendetta: TMC\",\n",
       "  'content': \"TMC on Tuesday said that Sourav Ganguly's removal as BCCI President is another example of BJP's political vendetta. Talking about the incident, TMC MP Santanu Sen claimed that BJP's Amit Shah visited Ganguly's house a few months back and he was given several opportunities to join BJP. Was Ganguly removed because he's from Mamata Banerjee's state? Sen asked. \",\n",
       "  'category': 'sports'},\n",
       " {'title': 'How does the final medal tally of 36th National Games read?',\n",
       "  'content': 'The 36th National Games came to a conclusion on Wednesday, with Services Sports Control Board (SSCB) finishing on top of the medal tally with 61 gold medals. Maharashtra came second with 39 gold medals, while Haryana came third with 38 gold medals. Overall, Maharashtra won the most number of medals with 140, while SSCB won 128. ',\n",
       "  'category': 'sports'},\n",
       " {'title': 'Who are the top 5 batters as per latest T20I rankings?',\n",
       "  'content': \"New Zealand wicketkeeper-batter Devon Conway leapfrogged Australia's Aaron Finch and England's Dawid Malan to make it to fifth spot with 760 rating points in latest T20I rankings for batters. The rankings are led by Pakistan's Muhammad Rizwan (853 rating points). He's followed by India's Suryakumar Yadav (838) and Pakistan captain Babar Azam (808 points). South Africa's Aiden Markram is fourth.\",\n",
       "  'category': 'sports'},\n",
       " {'title': 'ICC names 5 changes to playing conditions to keep an eye on during T20 World Cup',\n",
       "  'content': \"ICC named five changes to playing conditions to keep an eye on during T20 World Cup 2022. They include five-run penalty for unfair movement by fielding side, new batter to take strike after caught dismissals, in-match over penalty for slow over-rate, batters requiring to have some part of their bat/body within pitch and 'mankading', which is no longer 'unfair play'.\",\n",
       "  'category': 'sports'},\n",
       " {'title': 'Ambati Rayudu, Sheldon Jackson involved in fight during match, video goes viral',\n",
       "  'content': \"A video has gone viral showing Baroda's Ambati Rayudu and Saurashtra's Sheldon Jackson getting involved in a fight during their Syed Mushtaq Ali Trophy match. According to the on-air commentator, the fight ensued after Rayudu expressed his displeasure at Jackson taking time to get ready to face the deliveries. The umpires and players had to intervene to end their fight.\",\n",
       "  'category': 'sports'},\n",
       " {'title': \"Ben Stokes' flying effort at boundary rope to save six goes viral\",\n",
       "  'content': 'A video has gone viral showing England all-rounder Ben Stokes\\' acrobatic effort to save a shot from Australia\\'s Mitchell Marsh from going for a six at long-off during the second T20I in Canberra. Reacting to the video, a fan tweeted, \"How he did that so brilliantly!\" Another fan wrote, \"Unbelievable athleticism!\" \"His reaction time is outstanding,\" another tweet read.',\n",
       "  'category': 'sports'},\n",
       " {'title': 'Mohammad Shami confirms he is going to Australia ahead of T20 WC, shares pics from flight',\n",
       "  'content': 'Pacer Mohammad Shami on Wednesday confirmed that he is going to Australia ahead of the T20 World Cup 2022. Sharing pictures from a flight on Instagram, the 32-year-old pacer wrote, \"Time to fly now for T20 World Cup.\" Shami is reportedly in contention to replace the vacant spot left by injured Jasprit Bumrah in India\\'s T20 World Cup 2022 squad.',\n",
       "  'category': 'sports'},\n",
       " {'title': 'ICC names 2 strike bowlers for every team at T20 World Cup 2022',\n",
       "  'content': \"ICC has named two strike bowlers for every team at T20 World Cup 2022, considering their rankings and the latest form. For India, ICC named pacer Bhuvneshwar Kumar and leg-spinner Yuzvendra Chahal as the strike bowling combination. For Pakistan, ICC chose pacers Mohammad Wasim and Haris Rauf. Meanwhile, ICC named Josh Hazlewood and Adam Zampa as hosts Australia's strike bowlers.\",\n",
       "  'category': 'sports'},\n",
       " {'title': \"Mbappe seeking Jan transfer after feeling 'betrayed' by PSG: Report\",\n",
       "  'content': 'PSG forward Kylian Mbappe is reportedly unhappy with the club and is looking for a transfer during the January window. Mbappe is said to be feeling \"betrayed\" as promises like a second striker alongside him and a new centre-back have not been fulfilled by the club. The forward\\'s relationship with fellow striker Neymar is also said to be an issue. ',\n",
       "  'category': 'sports'},\n",
       " {'title': 'Pant should be worried, Ishan Kishan is coming for his spot: Steyn',\n",
       "  'content': 'Ex-South Africa pacer Dale Steyn has praised batter Ishan Kishan, stating that wicketkeeper-batter Rishabh Pant should be \"worried that someone (Ishan) is coming for his spot\". \"I\\'ve watched Ishan go and get better. For a short and small man, he packs an incredible punch,\" added Steyn. Ishan scored 20, 93 and 10 in his three innings in the SA ODIs.',\n",
       "  'category': 'sports'},\n",
       " {'title': \"Big score is around the corner: NZ coach Stead on Williamson's form\",\n",
       "  'content': 'New Zealand head coach Gary Stead, on being asked about their captain Kane Williamson\\'s recent performances, said a \"big score\" is around the corner for the 32-year-old. \"Kane is one of the hardest workers I have seen on his game and he continues to be,\" added Stead. Notably, Williamson hasn\\'t crossed the 50-run mark in his last six T20I innings.',\n",
       "  'category': 'sports'},\n",
       " {'title': 'FA to employ lip reader for Henderson-Gabriel altercation probe: Report',\n",
       "  'content': \"The Football Association (FA) is reportedly set to employ a lip reader as part of their ongoing investigation into the altercation between Liverpool captain Jordan Henderson and Arsenal defender Gabriel. The incident took place when the two teams played against each other and a penalty was awarded to Arsenal. The FA started its investigation based on referee Michael Oliver's report.\",\n",
       "  'category': 'sports'},\n",
       " {'title': 'Will try to win remaining races: Verstappen after winning world title',\n",
       "  'content': '2022 F1 world champion Max Verstappen said he will \"definitely try\" to win the remaining four races of the season. \"There is no real pressure anymore but I still want to of course try and win more,\" said Verstappen. He added that he wanted to extend the current advantage as it may not be there \"in the years to come\".',\n",
       "  'category': 'sports'},\n",
       " {'title': 'Like Malinga, Wanindu Hasaranga is a competitor: Mahela Jayawardena',\n",
       "  'content': 'Ex-Sri Lanka captain Mahela Jayawardena has praised spinner Wanindu Hasaranga, stating that the 25-year-old has delivered in \"tough situations\" for his team in the last 12 months. \"Once Wanindu crosses the field, like Lasith Malinga, he\\'s a competitor...that\\'s what I love about him,\" added Jayawardena. Wanindu was named \\'Player of the Tournament\\' in the 2022 Asia Cup.',\n",
       "  'category': 'sports'},\n",
       " {'title': \"Aus will suit our pacers a lot better: Boucher after SA's series loss vs India\",\n",
       "  'content': 'After losing both the ODI and the T20I series in India, South Africa head coach Mark Boucher said Australian pitches will suit their pacers a \"lot better\". He added, \"We have got some good pace, some good bounce in our attack, so we need to keep the aggression there.\" South Africa lost the three-match ODI series 1-2.',\n",
       "  'category': 'sports'},\n",
       " {'title': 'Slower ones are not that effective against someone like Kohli: Harshal',\n",
       "  'content': 'India pacer Harshal Patel has said that his slower deliveries are more effective when players go deep in the crease and try to slog. \"For someone like Virat Kohli, whenever I\\'ve played against him, he steps out and makes it a full toss and plays it through midwicket,\" added Harshal. Harshal has picked three wickets in his last six T20Is.',\n",
       "  'category': 'sports'},\n",
       " {'title': \"Marco Jansen replaces Dwaine Pretorius in SA's squad for T20 WC\",\n",
       "  'content': 'South Africa all-rounder Marco Jansen has replaced Dwaine Pretorius in their squad for the upcoming T20 World Cup in Australia. Pretorius sustained a fracture in his left thumb during the third T20I against India and was subsequently ruled out of the World Cup. Interestingly, Jansen has played only one T20I in his career so far.',\n",
       "  'category': 'sports'},\n",
       " {'title': \"I'd go for Siraj, he has been bowling well: Gavaskar on Bumrah's replacement\",\n",
       "  'content': 'Former India captain Sunil Gavaskar has said he would go for pacer Mohammed Siraj as Jasprit Bumrah\\'s replacement in the upcoming T20 World Cup as the 28-year-old has been \"bowling well\". \"Mohammad Shami has played no cricket. And that\\'s a concern,\" added Gavaskar. Siraj was named the \\'Player of the Series\\' in the recently-concluded three-match ODI series against South Africa.',\n",
       "  'category': 'sports'},\n",
       " {'title': \"It's like having the best car, but you leave it in garage: Lee on Umran Malik\",\n",
       "  'content': 'Former Australia pacer Brett Lee has said India\\'s 22-year-old pacer Umran Malik should\\'ve been selected in India\\'s squad for the T20 World Cup in Australia. \"Umran Malik is bowling at 150 kmph. I mean when you have the best car in the world, and you leave it in the garage, then what\\'s the point of having that car?\" said Lee.',\n",
       "  'category': 'sports'},\n",
       " {'title': 'Washington Sundar brings more to the table than Ashwin: Aakash Chopra',\n",
       "  'content': 'Cricketer-turned-commentator Aakash Chopra has said Washington Sundar \"brings more to the table\" than Ravichandran Ashwin, but the all-rounder missed the bus for the upcoming T20 World Cup due to recurring injuries. \"Had Washington remained...without any injuries in the last 10 months...he\\'d have been part of the T20 WC squad,\" stated Aakash. Sundar last played a T20I in March last year.',\n",
       "  'category': 'sports'},\n",
       " {'title': \"Both India, Pak don't have enough all-rounders, it's been an issue: Nasser\",\n",
       "  'content': 'Ex-England captain Nasser Hussain has said both India and Pakistan lack a proper number seven player in their squads for the upcoming T20 World Cup. \"If you have a solid number seven, then...your top six can absolutely go for it. That has been an issue for India [and Pakistan]...Babar and Rizwan are so worried about their [batting] depth,\" stated Hussain.',\n",
       "  'category': 'sports'},\n",
       " {'title': \"Suryakumar reminds me of ABD, he's the player to watch out for in WC: Steyn\",\n",
       "  'content': 'Ex-South Africa pacer Dale Steyn has said India\\'s Suryakumar Yadav is in \"red-hot form\" and he\\'s the player to watch out for in the upcoming T20 World Cup in Australia. \"He\\'s a wonderful 360-degree player, and reminds me of AB de Villiers,\" added Steyn. Suryakumar has scored three fifties in his last four T20I innings.',\n",
       "  'category': 'sports'},\n",
       " {'title': 'Man City, Real Madrid enter Champions League knockouts; Chelsea stun Milan',\n",
       "  'content': 'Manchester City and Real Madrid have become the first teams to enter the knockout phase of the ongoing Champions League after playing out draws in their respective matches on Tuesday night. City were held to a 0-0 draw by Copenhagen, while Madrid rescued a 1-1 draw in the last five minutes against Shakhtar Donetsk. Meanwhile, Chelsea defeated AC Milan 2-0.',\n",
       "  'category': 'sports'},\n",
       " {'title': \"Russia adds Meta to its list of 'terrorist and extremist' organisations\",\n",
       "  'content': 'Russia\\'s financial monitoring agency, Rosfinmonitoring, has added Facebook and Instagram parent Meta to its list of \"terrorist and extremist\" organisations, AFP and Russia\\'s Interfax news agency reported. In June, a Russian court rejected an appeal by Meta after it was found guilty of \"extremist activity\" in the country in March. At the time, Meta\\'s lawyer had denied the allegation.',\n",
       "  'category': 'technology'},\n",
       " {'title': \"Robot addresses UK Parliament, says 'Although not alive, I can still create art'\",\n",
       "  'content': 'A \\'robot artist\\' called Ai-Da interacted with British lawmakers on Tuesday, speaking at a parliamentary inquiry into how new technologies will affect the creative industries. \"I am, and depend on, computer programmes and algorithms. Although not alive, I can still create art,\" Ai-Da said. Ai-Da was created by scientists at the University of Oxford.',\n",
       "  'category': 'technology'},\n",
       " {'title': 'I have spoken to Putin only once and that was about 18 months ago: Musk',\n",
       "  'content': 'Elon Musk on Tuesday tweeted, \"I have spoken to Putin only once and that was about 18 months ago.\" He added, \"The subject matter was space.\" Musk\\'s tweet came after reports claimed that he directly spoke with Russian President Vladimir Putin before tweeting a proposal to end the war in Ukraine earlier this month.',\n",
       "  'category': 'technology'},\n",
       " {'title': 'Infosys President Ravi Kumar S resigns',\n",
       "  'content': 'Infosys on Tuesday announced the resignation of the company\\'s President Ravi Kumar S, effective October 11, 2022. \"The Board of Directors placed on record their deep sense of appreciation for the services rendered by Ravi Kumar S for his contributions to the company,\" Infosys said in a regulatory filing. Ravi led Infosys Global Services Organization across all industry segments.',\n",
       "  'category': 'technology'},\n",
       " {'title': \"TCS staff seeking WFH on medical grounds referred to firm's doctors for validation: Report\",\n",
       "  'content': 'TCS employees seeking exemption from work from office on medical basis are reportedly being referred to doctors empanelled by the company for validation. According to a report, employees have been asked to get their records of diagnosis and medical certificates validated by these doctors to permit remote work. TCS staff has been asked to work from office thrice a week. ',\n",
       "  'category': 'technology'},\n",
       " {'title': 'Apple to roll out 5G software update in India by December',\n",
       "  'content': 'Apple on Wednesday said that it will start upgrading its software to support 5G services for iPhone users in India by December. In a statement, the company said, \"We are working with our carrier partners in India to bring the best 5G experience to iPhone users as soon as network validation and testing for quality and performance is completed.\"',\n",
       "  'category': 'technology'},\n",
       " {'title': \"Wipro's net employee addition falls to 605, attrition down to 23% in Jul-Sept\",\n",
       "  'content': \"IT services firm Wipro on Wednesday said its net employee addition during the July-September 2022 quarter was 605 people, down from 15,446 employees it hired in the April-June 2022 quarter. Wipro's attrition rate for Q2 FY23 was 23%, down from 23.3% recorded in Q1 FY23. Wipro was the only IT major to report a fall in attrition in last quarter.\",\n",
       "  'category': 'technology'},\n",
       " {'title': 'Adani Data Networks gets licence to offer telecom services in India: Report',\n",
       "  'content': \"Adani Data Networks has reportedly been granted a unified licence to offer telecom services in India. The company bought a 400MHz spectrum in the 26GHz millimetre wave band for ₹212 crore for 20 years in the recent 5G spectrum auction. Earlier, Adani Group clarified that it doesn't intend to enter the consumer mobility space with its 5G spectrum. \",\n",
       "  'category': 'technology'},\n",
       " {'title': 'HCLTech adds highest-ever 10,339 freshers, reports 23.8% attrition in Jul-Sept',\n",
       "  'content': \"HCLTech reported its highest-ever hiring of 10,339 freshers in July-September quarter, MD and CEO C Vijayakumar said on Wednesday. HCLTech's attrition rate in the quarter stood at 23.8%, same as that in April-June quarter. Meanwhile, the firm reported net employee addition of 8,359 employees in Q2 FY23, up from net employee addition of 2,089 employees in Q1 FY23.\",\n",
       "  'category': 'technology'},\n",
       " {'title': '2-seater Chinese electric flying car makes 1st public test flight in Dubai, pics surface',\n",
       "  'content': 'An electric flying car built by the Chinese electronic vehicle maker Xpeng made its first public test flight in Dubai. Powered by eight propellers, the vehicle can carry two passengers and as per the company, it has a top speed of 130 km per hour. Several pictures and videos of the test flight also surfaced on social media.',\n",
       "  'category': 'technology'},\n",
       " {'title': 'Intel plans to cut thousands of jobs amid PC market slowdown: Report',\n",
       "  'content': 'Chipmaker Intel is planning to cut thousands of jobs amid a slowdown in the personal computer market, as per a report. The job cuts will reportedly be announced as early as this month and may include employees from the sales and marketing divisions. Intel last made significant job cuts in 2016, when about 12,000 people were laid off. ',\n",
       "  'category': 'technology'},\n",
       " {'title': \"Facebook users complain of losing followers, Zuckerberg's decline by 119 million\",\n",
       "  'content': 'Several Facebook users have complained about losing a majority of their followers on the social media platform due to unknown reasons. Notably, Meta CEO Mark Zuckerberg has also lost over 119 million followers, bringing his follower count to less than 10,000. Meanwhile, a Meta spokesperson said, \"We’re working to get things back to normal as quickly as possible.\"',\n",
       "  'category': 'technology'},\n",
       " {'title': 'Crypto firm Blockchain.com gets Singapore licence a day after Coinbase',\n",
       "  'content': \"Blockchain.com, a cryptocurrency exchange backed by Lightspeed Venture Partners, has said that it has received approval from Singapore's central bank to offer services in the city-state. The announcement comes a day after cryptocurrency exchange company, Coinbase, received the same approval. There are total 18 cryptocurrency exchange firms allowed to operate in Singapore.\",\n",
       "  'category': 'technology'},\n",
       " {'title': 'YouTube introduces account handles to allow users to tag each other',\n",
       "  'content': \"YouTube has introduced account handles to make it easier for users to interact and tag other users. Handles will appear on channel pages and Shorts so that they will be instantly and consistently recognisable. Handles can be used to tag users in comments or video titles. YouTube will inform users over next month when they can choose their channel's handle.\",\n",
       "  'category': 'technology'},\n",
       " {'title': 'Intel confirms its proprietary source code has been exposed: Report',\n",
       "  'content': 'Intel has reportedly confirmed that its \\'Alder Lake BIOS\\' source code has been leaked by a third-party in a 6GB file containing tools and code for building and optimising \\'BIOS/UEFI\\' images. The BIOS/UEFI code works to initialise a computer\\'s hardware before the operating system has loaded.  \"We don\\'t believe this exposes any new security vulnerabilities,\" an Intel spokesperson said.',\n",
       "  'category': 'technology'},\n",
       " {'title': 'Apple may roll out 5G support for iPhone in India by Dec: Report',\n",
       "  'content': \"Apple may roll out 5G support for users of iPhone 12 and newer models in India by December this year, according to reports. Apple is reportedly extensively testing its 5G iPhone models on both Airtel and Reliance Jio's 5G networks. Senior executives from Apple and Airtel will also meet this week to discuss the rollout timeline.\",\n",
       "  'category': 'technology'},\n",
       " {'title': 'Mercedes-Benz, Microsoft collaborate to improve auto production',\n",
       "  'content': 'Mercedes-Benz and Microsoft have collaborated to use Microsoft Cloud for a data platform to improve production efficiency at auto plants around the world. According to a statement, the data platform is called MO360, and is presently available in Europe, the Middle East and Africa. The collaboration is aiming for a 20% increase in vehicle production efficiency by 2025. ',\n",
       "  'category': 'technology'},\n",
       " {'title': 'Uber shuts down in 5 Pak cities, to continue services via Careem',\n",
       "  'content': 'Uber has said that it will discontinue its services in five Pakistani cities including Karachi and Islamabad. Multan, Faisalabad and Peshawar are the other cities where operations will be stopped. Uber said that drivers and riders can switch to Careem, the Dubai-based company it bought. Uber will continue its operations in Lahore, where it also plans on launching new products. ',\n",
       "  'category': 'technology'},\n",
       " {'title': 'Policing virtual world like shutting down speakeasies: Roblox Chief Scientist',\n",
       "  'content': 'Policing the virtual world is like \"shutting down speakeasies\", said Roblox Chief Scientist Morgan McGuire referring to US prohibition-era bars hiding from law enforcement. The firm is deploying bots to detect any dangerous content that players may have disguised. Users had reportedly created explicit private spaces, known as \"condos\", where people\\'s digital avatars could engage in virtual sex.',\n",
       "  'category': 'technology'},\n",
       " {'title': 'Wipro to give 100% variable pay to 85% of employees in Q2 FY23: CEO',\n",
       "  'content': \"IT services firm Wipro's CEO Thierry Delaporte has said that the company will pay out 100% of variable pay to 85% of its employees for the second quarter. The remaining 15% of the employees will reportedly get their variable pay as per policy. The company's net profit fell 9.27% YoY to ₹2,659 crore in Q2 FY22.\",\n",
       "  'category': 'technology'},\n",
       " {'title': 'Yoho raises ₹20 crore in funding round led by Paytm Founder, others',\n",
       "  'content': 'Footwear startup Yoho has raised ₹20 crore in a funding round led by Paytm Founder Vijay Shekhar Sharma, Softbank Vision Fund CEO, Rajeev Misra and Rukam Capital, among other investors. Founded in 2021 by Prateek Singhal and Ahmad Hushsham, the firm manufactures lightweight orthopaedic footwear using AI and state-of-the-art technology. Currently, Yoho only sells footwear in three variants. ',\n",
       "  'category': 'technology'},\n",
       " {'title': 'Google Pixel 6a, Pixel 7 to soon get 5G update in India',\n",
       "  'content': 'Google Pixel 6a and Pixel 7 smartphones will soon be getting a new update to enable their users to connect to the 5G network in India. Google has confirmed that it is working with Indian telecom operators to allow 5G functionality. Meanwhile, Samsung on Wednesday confirmed that it will enable 5G support on its Galaxy devices in India by mid-November.',\n",
       "  'category': 'technology'},\n",
       " {'title': 'Samsung to enable 5G support in its devices in India by mid-Nov',\n",
       "  'content': 'Samsung on Wednesday confirmed that it will be enabling 5G support in its 5G-ready Galaxy devices in India through a software update in mid-November. \"In India, Samsung has the widest portfolio of 5G devices. We\\'re working closely with our operator partners [to enable]...Indian consumers to experience 5G seamlessly,\" a Samsung spokesperson said. Apple will launch 5G support in December 2022.',\n",
       "  'category': 'technology'},\n",
       " {'title': 'Twitter reviews policies on permanently banning users: Report',\n",
       "  'content': \"Twitter is reviewing its policies around permanently banning users and exploring if there are other content moderation tools to replace a ban, as per a report. In May, Elon Musk said he would reverse Twitter's ban on former US President Donald Trump. However, Twitter is not considering reversing bans issued for breaching its policy against inciting violence, the report added.\",\n",
       "  'category': 'technology'},\n",
       " {'title': 'Beliefs hurt by distorting traditions, Aamir should keep this in mind: Minister on bank ad',\n",
       "  'content': \"Madhya Pradesh Home Minister Narottam Mishra has criticised a bank advertisement featuring actors Aamir Khan and Kiara Advani. Mishra said that religious beliefs are hurt by distorting Indian traditions as the ad shows a couple reaching the bride's house and the groom taking the first step into the house. The minister said Aamir should do advertisements keeping this in mind.\",\n",
       "  'category': 'entertainment'},\n",
       " {'title': \"Can't you become bhaijaan to wronged women: Sherlyn to Salman on Sajid joining Bigg Boss\",\n",
       "  'content': 'Sherlyn Chopra, who had accused filmmaker Sajid Khan of sexual misconduct, has questioned Salman Khan for having the #MeToo accused on \\'Bigg Boss 16\\'. \"The message that\\'s going out...is that it\\'s okay to molest a woman,\" she said. \"I don\\'t understand what has happened to Salman Khan....You call yourself...bhaijaan, can\\'t you become bhaijaan to us wronged women?\" Sherlyn added.',\n",
       "  'category': 'entertainment'},\n",
       " {'title': 'American Idol fame Willie shared video of him singing in car on Insta hours before death',\n",
       "  'content': 'Singer Willie Spence, who passed away in a car accident aged 23, had shared a video of himself singing inside a car hours before his accident. \"Lord you are my hiding place,\" he had captioned the video. Reacting to his post, singer Katharine McPhee Foster wrote, \"You\\'re with Jesus now. God bless you. Thankful for the time we had.\"',\n",
       "  'category': 'entertainment'},\n",
       " {'title': 'American Idol runner-up Willie Spence dies in car accident aged 23',\n",
       "  'content': 'Singer Willie Spence, who finished runner-up in 19th season of American Idol, passed away in a car accident aged 23. Willie was in Tennessee at the time of the accident. \"Life\\'s so unfair and nothing is ever promised...God rest your soul Willie. It was a pleasure to sing with you and to know you,\" singer Katharine McPhee wrote on Instagram.',\n",
       "  'category': 'entertainment'},\n",
       " {'title': 'Shah Rukh Khan books 5-star hotel rooms for fans, meets them individually; pics surface',\n",
       "  'content': 'Actor Shah Rukh Khan recently booked 5-star hotel rooms for some of his fans and met them individually after finishing his shoot schedule for \\'Jawan\\' in Chennai. \"A manager along with two butlers were allotted to us,\" a fan said. \"He gave us all enough time to interact, click pictures and even present him with our gifts,\" the fan added. ',\n",
       "  'category': 'entertainment'},\n",
       " {'title': \"Not true: 'Taarak Mehta...' fame Disha's brother on reports she has throat cancer\",\n",
       "  'content': 'The brother of actress Disha Vakani, known for playing Dayaben in television show \\'Taarak Mehta Ka Ooltah Chashmah\\', has dismissed reports claiming that she is suffering from throat cancer. \"These kind of rumours keep doing the rounds in the media and there is no truth to it,\" her brother Mayur said.',\n",
       "  'category': 'entertainment'},\n",
       " {'title': 'Ranveer Singh, Kiara Advani win Maharashtrian of the Year Award 2022',\n",
       "  'content': 'Ranveer Singh and Kiara Advani were honoured at the Lokmat Maharashtrian of the Year 2022 award event in Mumbai on Tuesday. Maharashtra CM Eknath Shinde and Deputy CM Devendra Fadnavis felicitated the actors. Ranveer, who won the award for the film \\'83\\', said, \"Whatever I am, I am because of this state and my whole identity is related to it.\"',\n",
       "  'category': 'entertainment'},\n",
       " {'title': \"Couldn't finish watching 'Bhool Bhulaiyaa 2', it was scary: Katrina\",\n",
       "  'content': 'Actress Katrina Kaif has said that she couldn\\'t finish watching Kartik Aaryan-starrer \\'Bhool Bhulaiyaa 2\\'. Explaining the reason behind it, the \\'Phone Bhoot\\' actress said, \"I had to like cover my eyes. When Tabu comes all that even though I know that there is humour inside of it, even for me that was very very scary.\"',\n",
       "  'category': 'entertainment'},\n",
       " {'title': \"Every day was difficult: Parineeti on filming 'Code Name...' during COVID-19\",\n",
       "  'content': 'Parineeti Chopra shared that \"every day was difficult\" on the sets of \\'Code Name: Tiranga\\', which was shot in Turkey during the second wave of COVID-19. She said the team faced \"many challenges\" and felt like they were \"isolated on an island\". However, Parineeti said that the hardships made the whole crew feel like a \"big family away from home\".',\n",
       "  'category': 'entertainment'},\n",
       " {'title': \"Vicky & I get less time together, we've been away on shoots: Katrina\",\n",
       "  'content': 'Actress Katrina Kaif, speaking about her husband and actor Vicky Kaushal, has said that they get less time together. \"He has been away a lot on shoots, as have I,\" the actress added. However, Katrina has said that Vicky is a wonderful person. \"I think it\\'s nice to have a person like that in my life,\" she further added.',\n",
       "  'category': 'entertainment'},\n",
       " {'title': \"Got nose job to look prettier, it's my face, why wouldn't I: Shruti\",\n",
       "  'content': 'Actress Shruti Haasan said it is very obvious that she got her nose fixed as she did her first film with her \"old nose\". \"My nose was broken...And people are like she\\'s just using the deviated septum excuse,\" she said. \"I did have a deviated septum...But if I could make it prettier, it\\'s my face, why wouldn\\'t I?\" Shruti added. \\n',\n",
       "  'category': 'entertainment'},\n",
       " {'title': 'Amitabh Bachchan is still naughty & sometimes grumpy on sets: Hema Malini',\n",
       "  'content': 'Actress Hema Malini said that veteran actor Amitabh Bachchan was \"very quiet\" when they worked together for the first time. Hema and Amitabh worked together in several films like \\'Sholay\\' and \\'Baghban\\'. She stated that Amitabh hasn\\'t changed at all. \"He\\'s still very naughty, mischievous...sometimes serious and grumpy. He changes the mood on the sets with his entry,\" she added.',\n",
       "  'category': 'entertainment'},\n",
       " {'title': \"I may not be most talented, but I'm the hardest working: Janhvi Kapoor\",\n",
       "  'content': 'Actress Janhvi Kapoor has said that people have the \"biggest misconception\" about her that she takes her position for granted. \"I may not be the most talented or the most beautiful...but I can promise you that I\\'m the hardest-working person on the set,\" she added. Janhvi recently featured in \\'Good Luck Jerry\\' and will next star in \\'Bawaal\\'.',\n",
       "  'category': 'entertainment'},\n",
       " {'title': \"'Yaariyan 2' to star Priya Prakash Varrier, Meezaan and Pearl V Puri\",\n",
       "  'content': \"T-Series on Wednesday announced the sequel of the 2014 film 'Yaariyan' with an ensemble cast consisting of Pearl V Puri, Priya Prakash Varrier, Meezaan, and Yash Daasguptaa, among others. While the first film marked the directorial debut of Divya Khosla Kumar, 'Yaariyan 2' will be directed by Radhika Rao and Vinay Sapru. The film will release on May 12, 2023.\",\n",
       "  'category': 'entertainment'},\n",
       " {'title': 'People felt I was talking about my depression to promote a film: Deepika',\n",
       "  'content': 'Deepika Padukone, in a conversation with Meghan Markle, revealed many people thought she was either promoting a film or was being paid by a pharmaceutical company when she opened up about her depression. \"They thought I was being paid by a pharmaceutical company and you know that I\\'m now going to start advertising for some sort of medication,\" she added.',\n",
       "  'category': 'entertainment'},\n",
       " {'title': \"Loved Prashanth's work in 'KGF', he creates special world: Shruti Haasan\",\n",
       "  'content': 'Actress Shruti Haasan praised filmmaker Prashanth Neel for his work in the \\'KGF\\' franchise. \"I loved Prashanth sir\\'s work in KGF and I think he really creates a special world that you get a grand feeling as an audience and actor,\" she added. Shruti will feature in Prashanth\\'s \\'Salaar\\', which also features \\'Baahubali\\' actor Prabhas.',\n",
       "  'category': 'entertainment'},\n",
       " {'title': 'Salman Khan whitewashing his toxic masculinity: Sona on #MeToo accused Sajid',\n",
       "  'content': 'Speaking about Sajid Khan\\'s participation in \\'Bigg Boss 16\\', singer Sona Mohapatra tweeted that the show\\'s host and actor Salman Khan is whitewashing his own toxic masculinity. \"Continues the whitewashing in the BRO-HOOD...(Btw his gifting watches/food truck/surgeries is only more virtue signalling),\" she added. Several women accused Sajid of sexual misconduct during the #MeToo movement in 2018.',\n",
       "  'category': 'entertainment'},\n",
       " {'title': \"Wholesome & cathartic experience: Ananya on 'Kho Gaye Hum Kahan'\",\n",
       "  'content': 'Actress Ananya Panday has wrapped up the shooting of her upcoming film \\'Kho Gaye Hum Kahan\\' and called it \"the most fulfilling, wholesome, explorative and cathartic\" experience. \"I didn\\'t know it was possible to love so many people at once, but that\\'s what I felt every single day on set, for every single person associated with this film,\" she shared. ',\n",
       "  'category': 'entertainment'},\n",
       " {'title': \"Film festival in works to celebrate Dilip Kumar's 100th birth anniversary\",\n",
       "  'content': 'Film Heritage Foundation (FHF) founder Shivendra Singh Dungarpur said that the organisation is planning a film festival to honour late actor Dilip Kumar on his 100th birth anniversary. \"There\\'s no better way to celebrate his legacy,\" Dungarpur said, adding that the challenge is to find the right material for the festival. FHF had recently organised \\'Bachchan: Back To The Beginning\\'.',\n",
       "  'category': 'entertainment'},\n",
       " {'title': \"Shouldn't boycott film when govt is doing best to better economy: Rakul\",\n",
       "  'content': 'Actress Rakul Preet Singh said the film industry suffers when a film gets boycotted. She added there\\'s a chain reaction that follows after a film gets boycotted. \"Employment goes down. At a time when the government is doing its best to better the economy, we shouldn\\'t advocate these things,\" she added. Recently, several films faced \\'boycott\\' calls on social media.',\n",
       "  'category': 'entertainment'},\n",
       " {'title': \"It's definitely gonna blow up: Shekhar on music of SRK's 'Pathaan'\",\n",
       "  'content': 'Music composer Shekhar Ravjiani took to Twitter and shared a picture of himself from the music studio. Along with his picture, he wrote, \"Back to the musicverse of \\'Pathaan\\' and the electrifying power of Shah Rukh Khan.\" He added, \"It\\'s definitely gonna blow up! It\\'s positively going to get you off the floor! Need I say more?\"',\n",
       "  'category': 'entertainment'},\n",
       " {'title': \"'Squid Game' actor Anupam Tripathi meets Anurag Kashyap, shares pic\",\n",
       "  'content': 'Actor Anupam Tripathi, who played the role of Ali in the South Korean series \\'Squid Game\\', shared a picture with filmmaker Anurag Kashyap on Instagram. \"Simply an amazing moment for me. I just had a meeting with one of my favourite film directors from India,\" Anupam wrote along with the picture. He thanked Anurag for the \"short and awesome meeting\".',\n",
       "  'category': 'entertainment'},\n",
       " {'title': 'Got admission to my school because of Amitabh Bachchan: Ishaan Khatter',\n",
       "  'content': 'Actor Ishaan Khatter revealed that Amitabh Bachchan helped him to get admission to his school. \"He was the reason why I got admission to my school,\" Ishaan said, adding that the legendary actor \"paid a personal visit to the authorities and the principal\". Talking about Amitabh Bachchan, Ishaan shared, \"There\\'s so much to learn just by watching him.\"',\n",
       "  'category': 'entertainment'},\n",
       " {'title': \"Told Big B 'Marry me, I'm in love with you' when I was 10: Swetha Menon\",\n",
       "  'content': 'Malayalam actress Swetha Menon recalled an incident when she proposed to veteran actor Amitabh Bachchan when she was a 10-year-old girl. She said Amitabh had come to Allahabad to immerse the ashes of ex-Prime Minister Indira Gandhi. \"There was absolute silence...I reached Bachchan and told him to please \\'marry me as I am in love with you\\',\" she stated.',\n",
       "  'category': 'entertainment'},\n",
       " {'title': \"'Teri Mitti' was among toughest songs I've sung, it's powerful: Praak \",\n",
       "  'content': 'Singer B Praak has said that \\'Teri Mitti\\' was one of the toughest songs he has sung. \"It\\'s a powerful song that tells an incredible story and invokes patriotic fervour. So, to do justice to it was something I was very adamant about,\" he added. The song featured in Akshay Kumar and Parineeti Chopra\\'s 2019 film \\'Kesari\\'.',\n",
       "  'category': 'entertainment'}]"
      ]
     },
     "execution_count": 19,
     "metadata": {},
     "output_type": "execute_result"
    }
   ],
   "source": [
    "#Test my function!\n",
    "final_list = get_news_articles()\n",
    "final_list"
   ]
  },
  {
   "cell_type": "code",
   "execution_count": 20,
   "id": "423ba4d1",
   "metadata": {},
   "outputs": [
    {
     "data": {
      "text/plain": [
       "99"
      ]
     },
     "execution_count": 20,
     "metadata": {},
     "output_type": "execute_result"
    }
   ],
   "source": [
    "#Confirm I've collected enough information\n",
    "len(final_list)"
   ]
  },
  {
   "cell_type": "code",
   "execution_count": null,
   "id": "635b501d",
   "metadata": {},
   "outputs": [],
   "source": []
  }
 ],
 "metadata": {
  "kernelspec": {
   "display_name": "base",
   "language": "python",
   "name": "python3"
  },
  "language_info": {
   "codemirror_mode": {
    "name": "ipython",
    "version": 3
   },
   "file_extension": ".py",
   "mimetype": "text/x-python",
   "name": "python",
   "nbconvert_exporter": "python",
   "pygments_lexer": "ipython3",
   "version": "3.9.12"
  },
  "vscode": {
   "interpreter": {
    "hash": "38cca0c38332a56087b24af0bc80247f4fced29cb4f7f437d91dc159adec9c4e"
   }
  }
 },
 "nbformat": 4,
 "nbformat_minor": 5
}
