{
 "cells": [
  {
   "cell_type": "markdown",
   "id": "ff035687",
   "metadata": {},
   "source": [
    "# Web scraping exercises"
   ]
  },
  {
   "cell_type": "code",
   "execution_count": 1,
   "id": "e8b612eb",
   "metadata": {},
   "outputs": [
    {
     "data": {
      "application/javascript": "IPython.notebook.set_autosave_interval(0)"
     },
     "metadata": {},
     "output_type": "display_data"
    },
    {
     "name": "stdout",
     "output_type": "stream",
     "text": [
      "Autosave disabled\n"
     ]
    }
   ],
   "source": [
    "#Disable autosave\n",
    "%autosave 0"
   ]
  },
  {
   "cell_type": "code",
   "execution_count": 2,
   "id": "f9469709",
   "metadata": {},
   "outputs": [],
   "source": [
    "#Import dependencies\n",
    "from requests import get\n",
    "from bs4 import BeautifulSoup\n",
    "import pandas as pd\n",
    "import re\n",
    "import os\n",
    "import json"
   ]
  },
  {
   "cell_type": "markdown",
   "id": "7e4bdda8",
   "metadata": {},
   "source": [
    "## Exercise 1\n",
    "\n",
    "Codeup Blog Articles\n",
    "\n",
    "Visit [Codeup's Blog](https://codeup.com/blog/) and record the urls for at least 5 distinct blog posts. For each post, you should scrape at least the post's title and content.\n",
    "\n",
    "Encapsulate your work in a function named get_blog_articles that will return a list of dictionaries, with each dictionary representing one article."
   ]
  },
  {
   "cell_type": "markdown",
   "id": "7a1d7134",
   "metadata": {},
   "source": [
    "URLs for blog posts:  \n",
    "https://codeup.com/data-science/recession-proof-career/  \n",
    "https://codeup.com/codeup-news/codeup-x-comic-con/  \n",
    "https://codeup.com/featured/series-part-3-web-development/  \n",
    "https://codeup.com/codeup-news/codeup-dallas-campus/  \n",
    "https://codeup.com/codeup-news/codeup-tv-commercial/"
   ]
  },
  {
   "cell_type": "code",
   "execution_count": 3,
   "id": "42ee4bac",
   "metadata": {},
   "outputs": [],
   "source": [
    "#Define headers\n",
    "headers = {'User-Agent': 'Codeup Data Science'}"
   ]
  },
  {
   "cell_type": "code",
   "execution_count": 4,
   "id": "b964b5e4",
   "metadata": {},
   "outputs": [],
   "source": [
    "#Make a request\n",
    "response = get('https://codeup.com/data-science/recession-proof-career/', headers=headers)"
   ]
  },
  {
   "cell_type": "code",
   "execution_count": 5,
   "id": "af72e09e",
   "metadata": {},
   "outputs": [
    {
     "data": {
      "text/plain": [
       "'Is a Career in Tech Recession-Proof?'"
      ]
     },
     "execution_count": 5,
     "metadata": {},
     "output_type": "execute_result"
    }
   ],
   "source": [
    "#Create the soup and investigate\n",
    "soup = BeautifulSoup(response.content, 'html.parser')\n",
    "example = soup.find('h1')\n",
    "example.text"
   ]
  },
  {
   "cell_type": "code",
   "execution_count": 6,
   "id": "3c669f29",
   "metadata": {},
   "outputs": [
    {
     "data": {
      "text/plain": [
       "'Aug 12, 2022'"
      ]
     },
     "execution_count": 6,
     "metadata": {},
     "output_type": "execute_result"
    }
   ],
   "source": [
    "#Access the date published\n",
    "example2 = soup.find('span', class_='published')\n",
    "example2.text"
   ]
  },
  {
   "cell_type": "code",
   "execution_count": 7,
   "id": "067cfc03",
   "metadata": {},
   "outputs": [
    {
     "data": {
      "text/plain": [
       "'\\n\\n\\n\\n\\n\\nGiven the current economic climate, many economists are considering the U.S. to be entering a recession. This can cause confusion, fear, and uncertainty, especially as it pertains to job security.'"
      ]
     },
     "execution_count": 7,
     "metadata": {},
     "output_type": "execute_result"
    }
   ],
   "source": [
    "#Access the article content\n",
    "example3 = soup.find('div', class_='entry-content')\n",
    "example3.text"
   ]
  },
  {
   "cell_type": "code",
   "execution_count": 8,
   "id": "f9d9fd8d",
   "metadata": {},
   "outputs": [],
   "source": [
    "#Create a list of links to scrape\n",
    "links = ['https://codeup.com/codeup-news/dei-report/',\n",
    "         'https://codeup.com/codeup-news/diversity-and-inclusion-award/',\n",
    "         'https://codeup.com/featured/financing-career-transition/',\n",
    "         'https://codeup.com/tips-for-prospective-students/tips-for-women/',\n",
    "         'https://codeup.com/cloud-administration/cloud-computing-and-aws/']"
   ]
  },
  {
   "cell_type": "code",
   "execution_count": 9,
   "id": "142b21b7",
   "metadata": {},
   "outputs": [],
   "source": [
    "#Loop through the links to collect the relevant information from the blog posts\n",
    "article_info = []\n",
    "\n",
    "for link in links:\n",
    "    \n",
    "    info_dict = {}\n",
    "    \n",
    "    response = get(link, headers=headers)\n",
    "    \n",
    "    soup = BeautifulSoup(response.content, 'html.parser')\n",
    "    \n",
    "    info_dict['title'] = soup.find('h1').text\n",
    "    \n",
    "    info_dict['date_published'] = soup.find('span', class_='published').text\n",
    "    \n",
    "    lst = []\n",
    "    cat = soup.find_all('a',rel=\"category tag\")\n",
    "    for kitty in cat:\n",
    "        lst.append(kitty.text)\n",
    "\n",
    "    info_dict['category'] = lst\n",
    "\n",
    "    info_dict['content'] = soup.find('div', class_='entry-content').text\n",
    "    \n",
    "    article_info.append(info_dict)\n",
    "    "
   ]
  },
  {
   "cell_type": "code",
   "execution_count": 10,
   "id": "2540d071",
   "metadata": {},
   "outputs": [],
   "source": [
    "#Create a function to collect the information and cache it as a json file\n",
    "def get_blog_articles(article_list):\n",
    "    \n",
    "    file = 'blog_posts.json'\n",
    "    \n",
    "    if os.path.exists(file):\n",
    "        \n",
    "        with open(file) as f:\n",
    "        \n",
    "            return json.load(f)\n",
    "    \n",
    "    headers = {'User-Agent': 'Codeup Data Science'}\n",
    "    \n",
    "    article_info = []\n",
    "    \n",
    "    for article in article_list:\n",
    "        \n",
    "        info_dict = {}\n",
    "        \n",
    "        response = get(article, headers=headers)\n",
    "        \n",
    "        soup = BeautifulSoup(response.content, 'html.parser')\n",
    "        \n",
    "        info_dict['title'] = soup.find('h1').text\n",
    "        \n",
    "        info_dict['date_published'] = soup.find('span', class_='published').text\n",
    "        \n",
    "        lst = []\n",
    "        cat = soup.find_all('a',rel=\"category tag\")\n",
    "        for kitty in cat:\n",
    "            lst.append(kitty.text)\n",
    "\n",
    "        info_dict['category'] = lst\n",
    "\n",
    "        info_dict['content'] = soup.find('div', class_='entry-content').text\n",
    "        \n",
    "        article_info.append(info_dict)\n",
    "        \n",
    "    with open(file, 'w') as f:\n",
    "        \n",
    "        json.dump(article_info, f)\n",
    "        \n",
    "    return article_info"
   ]
  },
  {
   "cell_type": "code",
   "execution_count": 11,
   "id": "98709333",
   "metadata": {},
   "outputs": [
    {
     "data": {
      "text/plain": [
       "[{'title': 'Diversity Equity and Inclusion Report',\n",
       "  'date_published': 'Oct 7, 2022',\n",
       "  'category': ['Codeup News'],\n",
       "  'content': '\\nCodeup is excited to launch our first Diversity Equity, and Inclusion (DEI) report! In over eight years as an organization, we’ve implemented policies and grown our DEI efforts. We are extremely proud of the progress we’ve made as a staff and Codeup community, and we recognize there is more to learn. This report captures some of the ways that we’ve lived our value of Cultivating Inclusive Growth, and how we will continue doing so as we look to the future.\\nWe wanted to shine a light on the demographics of our students and staff, and in particular how that compares to the tech industry as a whole. How we collect, organize, and share employee demographic data is informed by standards set by the Equal Employment Opportunity Commission (EEOC).\\nWe are proud to celebrate how we’ve grown and are motivated and committed to do more and be better. To view the report visit the link here, or download it below.\\n\\n'},\n",
       " {'title': 'Codeup Honored as SABJ Diversity and Inclusion Award Winner',\n",
       "  'date_published': 'Oct 7, 2022',\n",
       "  'category': ['Codeup News'],\n",
       "  'content': '\\nCodeup has been named the 2022 Diversity and Inclusion award winner from the San Antonio Business Journal!\\nWe are thrilled to be among those that take pride in ensuring that diversity, equity, and inclusion (DEI) are priorities in our work environments.\\nTo learn more about our efforts, please check out our DEI Report for 2022!\\n\\n\\t\\t\\t#gallery-1 {\\n\\t\\t\\t\\tmargin: auto;\\n\\t\\t\\t}\\n\\t\\t\\t#gallery-1 .gallery-item {\\n\\t\\t\\t\\tfloat: left;\\n\\t\\t\\t\\tmargin-top: 10px;\\n\\t\\t\\t\\ttext-align: center;\\n\\t\\t\\t\\twidth: 33%;\\n\\t\\t\\t}\\n\\t\\t\\t#gallery-1 img {\\n\\t\\t\\t\\tborder: 2px solid #cfcfcf;\\n\\t\\t\\t}\\n\\t\\t\\t#gallery-1 .gallery-caption {\\n\\t\\t\\t\\tmargin-left: 0;\\n\\t\\t\\t}\\n\\t\\t\\t/* see gallery_shortcode() in wp-includes/media.php */\\n\\t\\t\\n\\n\\n\\n\\n\\n\\n\\n\\n\\n\\n\\n'},\n",
       " {'title': 'How Can I Finance My Career Transition?',\n",
       "  'date_published': 'Sep 29, 2022',\n",
       "  'category': ['Cloud Administration',\n",
       "   'Data Science',\n",
       "   'Featured',\n",
       "   'Financing',\n",
       "   'Full Stack Web Development',\n",
       "   'Tips for Prospective Students'],\n",
       "  'content': '\\nDeciding to transition into a tech career is a big step and a more significant commitment. Often after deciding to commit to a journey of this nature, the main obstacle is finding a way to finance your training.\\nAt Codeup, we recognize that many of our students are career transitioners, and attending one of our programs can sometimes require sacrifice. Luckily, we have several ways to help you finance your career transition, ultimately leading to that new career you’ve decided to pursue.\\nPrograms\\nWe offer three different accelerated coding bootcamps at Codeup including Full-Stack Web Development, Cloud Administration, and Data Science. These are all instructor-led and designed to quickly equip you with the skills and knowledge to secure an entry-level position in-field.\\nGetting Started\\nFor all of our programs, a $1,000 deposit one week before a student’s first day of class is all we require in order to solidify a seat in the starting cohort.\\nPayment Options\\nFinding a payment option that suits your needs is feasible with our different financing options.\\n\\nSelf-Pay: If you opt to pay out of pocket, 50% of the balance will be due on the first day of class, and the remaining 50% will be due 30 days after the first day of class\\nLoans: We have three loan partners that offer flexible repayment, including no payments until 6 months after graduating from our program!\\nGrants: With multiple options available, our grant partners will work to help you find aid to offset the cost of attendance\\nScholarships: We offer seven different internal scholarships, including Women in Tech, Annie Easley, Minorities in Tech, Pride, Veterans, First-Responders and Covid-19 Relief.\\nVA Benefits: We proudly accept VA benefits as a form of payment for veterans looking to transition to a career in tech. Our Dallas campus specifically accepts VET TEC, and our San Antonio campus accepts VET TEC, GI Bill®/Chapter 33, VRRAP, and Vocational Rehabilitation.\\n\\nFind a complete breakdown by campus of all of our financial aid options here.\\nIf you’re interested in jumpstarting your career in tech with Codeup, apply today and chat with someone from our admissions or financial aid team to get you setup in an upcoming cohort! If you aren’t quite ready to apply, click here to request more information on our programs, and we’ll help you decide which direction is best for you.\\n'},\n",
       " {'title': 'Tips for Women Beginning a Career in Tech',\n",
       "  'date_published': 'Sep 23, 2022',\n",
       "  'category': ['Tips for Prospective Students'],\n",
       "  'content': '\\nCodeup strongly values diversity, and inclusion. In honor of American Business Women’s Day, we’d like to share eight tips and pieces of advice from Codeup’s women in tech for women looking to begin their careers in tech!\\n\\n“Be confident in what you’re saying. If you’re speaking it’s because you have something to say.”\\n“Don’t over apologize (I do this way too often).”\\n“Be open and willing to speak up to your colleagues on how they can be supportive to everyone in the environment.”\\n“Band with other women to support each other on y’alls journey.”\\n“Find a mentor (and don’t limit yourself to just women mentors, as there aren’t many out there). A mentor can help you establish your career goals, navigate your journey, provide emotional support or motivation, and ultimately help you succeed.”\\n“Do not dismiss or shrug off “humor.” Call out racist, sexist, ableist, etc., comments. Stop letting work colleagues get away with bad behavior. Do this quickly, so it isn’t something that continues to happen.”\\n“Don’t be afraid to ask questions. The other three guys that were hired at the same time as I was NEVER asked any questions, but it turns out they were just as lost as I was. Once I started asking questions in our training meetings, they all started asking away as well! I thought they all understood what was going on, and being the only female in the group, I didn’t want to stick out. This had been holding me back. Instead of being afraid that you will come off as “not getting it”, you will instead hear “That’s a really good question!” or “I’m glad you asked that!”.”\\n“We belong here. Remind yourself of that when you doubt yourself. Because you will. I did. But I belong. And you do, too. So say it like a mantra – I belong here. And believe it.”\\n\\nCodeup works hard to close the gender inequality gap, and to diversify the tech world by producing a unique blend of tech talent. We also offer a Women in Tech scholarship open to anyone who identifies as a woman. Our goal is to make a career in tech accessible to all.\\nJoin us on our journey of empowering women in tech today! Apply or request more information on our programs to jumpstart your career in tech.\\n'},\n",
       " {'title': 'What is Cloud Computing and AWS?',\n",
       "  'date_published': 'Sep 13, 2022',\n",
       "  'category': ['Cloud Administration', 'Tips for Prospective Students'],\n",
       "  'content': '\\nWith many companies switching to cloud services and implementing cloud infrastructure in their practices, many of us may be wondering…what is cloud computing, and what is AWS?\\nHopefully, this beginner-friendly guide will answer these questions and give you a foundational understanding of AWS and how cloud infrastructure differs from traditional IT.\\nWhat is cloud computing?\\nCloud computing is data hosted via the internet by an independent party. This independent party extends its infrastructure to customers with a pay-as-you-go pricing model.\\nCloud Service Providers\\nRecently, more organizations have given up physical data centers and are transitioning to the Cloud for their needs. The following are the top Cloud Infrastructure Services providers in 2022:\\n\\nAmazon Web Services (AWS)\\nMicrosoft Azure\\nGoogle Cloud Platform (GCP)\\n\\nAWS| Amazon Web Services\\nAt Codeup, our Cloud Administration program curriculum focuses on AWS. We prepare students to attempt two certification exams:\\n\\nAWS Cloud Practitioner Exam\\nAWS Solutions Architect Associate Exam\\n\\nAWS is the most mature of the cloud service providers, and the lead market provider of cloud services. AWS offers over 200 services, operating globally at a low cost.\\nCloud-Based Infrastructure vs. Traditional IT\\nCloud-Based Infrastructure\\n\\nSelect the right resource for your organization based on needs such as power, storage, speed, and network, and easily make adjustments as needed\\nYou only pay for what you use\\nDeploying infrastructure globally is easy and achievable in minutes\\nThere are no customer costs associated with maintenance, updates, or licensing\\nSecurity and fault tolerance mechanisms are taken care of by the cloud service provider\\nUser data is saved at all times and protected in multiple data centers within a region so in the case of an emergency or disaster, service remains uninterrupted\\nOperating in the cloud is all automated\\n24/7 trained IT staff is available for customer support\\n\\nTraditional IT\\n\\nOrganizations will need to acquire and setup servers independently and manually\\nThe organization is responsible for maintenance and hardware checkups\\nThe organization is responsible for backing up data and setting up a disaster recovery plan\\nAn IT staff will need to be hired by the organization\\nWhen scaling up, it is necessary to acquire more hardware to meet the needs of the organization\\nScaling up or down is manual and time-consuming\\nRequires a lot of up front capital to purchase the necessary hardware\\n\\nIf you’re interested in jumpstarting your career in tech, and you’re looking into cloud computing our Cloud Administration program may be right for you! Request more information to learn more, and check out some of our 100% free workshops to see if it’s a good fit. When you’re ready, apply to get started on your Codeup journey! We hope to hear from you soon.\\n'}]"
      ]
     },
     "execution_count": 11,
     "metadata": {},
     "output_type": "execute_result"
    }
   ],
   "source": [
    "#Run my function to make sure it works!\n",
    "article_info = get_blog_articles(links)\n",
    "article_info"
   ]
  },
  {
   "cell_type": "markdown",
   "id": "ced8b285",
   "metadata": {},
   "source": [
    "## Exercise 2\n",
    "\n",
    "News Articles\n",
    "\n",
    "We will now be scraping text data from [inshorts](https://inshorts.com/), a website that provides a brief overview of many different topics.\n",
    "\n",
    "Write a function that scrapes the news articles for the following topics:\n",
    "\n",
    "Business  \n",
    "Sports  \n",
    "Technology  \n",
    "Entertainment  \n",
    "\n",
    "The end product of this should be a function named get_news_articles that returns a list of dictionaries, where each dictionary has this shape:"
   ]
  },
  {
   "cell_type": "code",
   "execution_count": 12,
   "id": "f261a52b",
   "metadata": {},
   "outputs": [
    {
     "data": {
      "text/plain": [
       "'\\n\\n\\n\\n\\n    /* The Modal (background) */\\n    .modal_contact {\\n        display: none; /* Hidden by default */\\n        position: fixed; /* Stay in place */\\n        z-index: 8; /* Sit on top */\\n        left: 0;\\n        top: 0;\\n        width: 100%; /* Full width */\\n        height: 100%;\\n        overflow: auto; /* Enable scroll if needed */\\n        background-color: rgb(0,0,0); /* Fallback color */\\n      '"
      ]
     },
     "execution_count": 12,
     "metadata": {},
     "output_type": "execute_result"
    }
   ],
   "source": [
    "#Make a request of the business page\n",
    "response2 = get('https://inshorts.com/en/read/business')\n",
    "soup2 = BeautifulSoup(response2.content, 'html.parser')\n",
    "soup2.text[:400]"
   ]
  },
  {
   "cell_type": "code",
   "execution_count": 13,
   "id": "af765ed3",
   "metadata": {},
   "outputs": [
    {
     "data": {
      "text/plain": [
       "[<span itemprop=\"headline\">Bandhan Bank onboards Sourav Ganguly as brand ambassador</span>,\n",
       " <span itemprop=\"headline\">Infosys let go of employees working for two companies in last 12 months: CEO</span>,\n",
       " <span itemprop=\"headline\">Layoffs will be the absolute last thing at Zoho, it destroys loyalty: CEO</span>,\n",
       " <span itemprop=\"headline\">Musk is under federal probe over his conduct in $44 billion deal, says Twitter</span>,\n",
       " <span itemprop=\"headline\">Centre announces one-time aide for paddy straw pellet makers</span>,\n",
       " <span itemprop=\"headline\">JPMorgan cuts ties with Kanye, gives him until Nov 21 to move assets</span>,\n",
       " <span itemprop=\"headline\">US-based Bitcoin firm NYDIG lays off around 33% of its staff: Report</span>,\n",
       " <span itemprop=\"headline\">US-based 6sense fires 150 workers globally, including India: Report</span>,\n",
       " <span itemprop=\"headline\">India's 5G is indigenous and can be provided to other nations: FM</span>,\n",
       " <span itemprop=\"headline\">Infosys not to mandate return to office, flexible approach to continue: CEO</span>,\n",
       " <span itemprop=\"headline\">WeWork India invests in Bengaluru-based conferencing platform Zoapi</span>,\n",
       " <span itemprop=\"headline\">Gold, silver jewellery worth ₹3,000 cr sold on Karwa Chauth: CAIT</span>,\n",
       " <span itemprop=\"headline\">I-T Dept raids stores of garment retailer RS Brothers in Hyderabad</span>,\n",
       " <span itemprop=\"headline\">US interest rates may go over 4.5% to tame inflation: JPMorgan CEO</span>,\n",
       " <span itemprop=\"headline\">Sensex jumps over 1,000 points, Nifty opens above 17,300</span>,\n",
       " <span itemprop=\"headline\">No plans to buy Jaiprakash Associates' cement unit: Adani Enterprises</span>,\n",
       " <span itemprop=\"headline\">Power Mech-RITES JV bags ₹499.41-cr order from Bengaluru Metro</span>,\n",
       " <span itemprop=\"headline\">Talk of UK exit speculative, engaging with govt on subsidy: Tata Steel</span>,\n",
       " <span itemprop=\"headline\">Chivas Regal maker's India head steps down due to health reasons</span>,\n",
       " <span itemprop=\"headline\">WPI inflation falls to 10.7% in Sept, in double digits for 18 straight months</span>,\n",
       " <span itemprop=\"headline\">India-UK FTA no longer has a Diwali deadline: UK Trade Secretary</span>,\n",
       " <span itemprop=\"headline\">NCLT approves ArcelorMittal's ₹4,050-cr resolution plan for Uttam Galva </span>,\n",
       " <span itemprop=\"headline\">Infosys shares surge 5% after Q2 results, ₹9,300-cr buyback news</span>,\n",
       " <span itemprop=\"headline\">Asian govts spent $50 bn forex reserves in Sept amid rising dollar: Report</span>,\n",
       " <span itemprop=\"headline\">SAT stays SEBI's shut down order against Brickwork Ratings: Report</span>]"
      ]
     },
     "execution_count": 13,
     "metadata": {},
     "output_type": "execute_result"
    }
   ],
   "source": [
    "#Access the titles\n",
    "titles = soup2.find_all('span', itemprop='headline')\n",
    "titles"
   ]
  },
  {
   "cell_type": "code",
   "execution_count": 14,
   "id": "8a5e9873",
   "metadata": {},
   "outputs": [
    {
     "data": {
      "text/plain": [
       "[<div itemprop=\"articleBody\">Bandhan Bank has announced Sourav Ganguly as its brand ambassador. Fondly called 'Dada' and 'Maharaja of Indian Cricket', Sourav Ganguly will be the voice of Bandhan Bank, helping the brand take its message to the masses. \"This association is another step towards connecting strongly with consumers across the spectrum and reinforcing our ongoing mission of inclusive banking,\" the brand stated.</div>,\n",
       " <div itemprop=\"articleBody\">Infosys CEO Salil Parekh has revealed that the company let go of employees who were found to be working at two specific companies in the last 12 months. The fired employees were working for companies where there were issues regarding confidentiality, Parekh added. Last month, Wipro fired around 300 employees who were working directly for the IT company's competitors.</div>,\n",
       " <div itemprop=\"articleBody\">Software startup Zoho's CEO Sridhar Vembu said that layoffs will be the \"absolute last thing\" that the company will ever consider. \"It kind of destroys loyalty...If we want our employees to be loyal, we have to be loyal to them,\" the billionaire explained. Vembu further said that even when the times are tough, the company needs to retain its talent.</div>,\n",
       " <div itemprop=\"articleBody\">Twitter has claimed that the world's richest person Elon Musk is being investigated by federal authorities over his conduct in his $44-billion takeover deal. Attorneys for the Tesla CEO claimed \"investigative privilege\" when refusing to hand over documents, Twitter said in a court filing. \"This game of 'hide the ball' must end,\" the company, which sued Musk in July, added.</div>,\n",
       " <div itemprop=\"articleBody\">Centre said it'll provide one-time financial support for setting up pellet manufacturing and torrefaction plants to enhance paddy straw utilisation in power plants and industries. Union Minister Bhupender Yadav released CPCB guidelines for this. A maximum grant of ₹14 lakh per ton/hour for a non-torrefied pellet plant and ₹28 lakh per ton/hour for a torrefied pellet plant is being provided. </div>,\n",
       " <div itemprop=\"articleBody\">JPMorgan Chase has cut ties with Kanye West, officially known as Ye, and has given him until November 21 to transfer his business to another bank. A letter apparently sent by the bank to the rapper was shared by conservative activist Candace Owens. The bank reportedly sent the letter in September, weeks before Kanye received criticism over his anti-Semitic comments.</div>,\n",
       " <div itemprop=\"articleBody\">US-based Bitcoin company NYDIG laid off 110 employees, a third of its workforce, last month to cut costs, The Wall Street Journal reported. The company took the decision weeks before replacing its top two executives. Last year, NYDIG raised $1 billion in a funding round which increased the company's valuation to more than $7 billion.</div>,\n",
       " <div itemprop=\"articleBody\">US-based AI firm 6sense has fired close to 150 employees globally, including India, citing uncertain macroeconomic conditions, Moneycontrol reported. The layoffs happened across teams including content, design, sales and marketing. Employees were reportedly offered to encash privilege leaves as part of severance package. The Tiger Global-backed company is currently valued at $5.2 billion.</div>,\n",
       " <div itemprop=\"articleBody\">Union Finance Minister Nirmala Sitharaman said the 5G technology in India is completely indigenous except for some \"critical parts\" that have been imported. \"There could be some critical parts coming from, say, countries like (South) Korea, but certainly not from somebody else. So complete indigenous technology that we can now provide 5G (to any country) who wants it,\" Sitharaman said.\n",
       " </div>,\n",
       " <div itemprop=\"articleBody\">Infosys CEO Salil Parekh said the company has not mandated any fixed number of days that employees need to attend office physically and will continue with its flexible approach. \"In our India offices, we have about 45,000 employees in the office at any given time...We are finding that the approach taken so far has been well received,\" Parekh said.</div>,\n",
       " <div itemprop=\"articleBody\">WeWork India has invested in Bengaluru-based conferencing and collaboration platform Zoapi for an undisclosed sum. Zoapi was co-founded by Prashanth NS and Chaitanya Vasantarao in 2019 and is a unified conferencing and collaboration solution provider for co-working spaces. Zoapi is also a member of the Intel IoT Solution alliance. WeWork entered the Indian market in 2017. </div>,\n",
       " <div itemprop=\"articleBody\">Indian traders' and retailers' bodies CAIT and AIJGF said that gold and silver jewellery reported around 36% of increases in sales on the occasion of Karwa Chauth on Thursday compared to last year. Gold and silver jewellery worth ₹3,000 crore was reportedly sold in India on Thursday. Price of 24-carat gold in Delhi was ₹52,000 per 10 grams, they added.</div>,\n",
       " <div itemprop=\"articleBody\">The Income Tax Department on Friday conducted searches at multiple stores and offices of garment and jewellery retailer RS Brothers. As per reports, raids were conducted over investments made by the company in the real estate business. Income Tax officials reportedly checked the transactions made by RS Brothers. They also searched the offices of some real estate firms.</div>,\n",
       " <div itemprop=\"articleBody\">America's largest bank JPMorgan Chase's CEO Jamie Dimon warned that US policymakers might have to increase interest rates to more than 4.5% to tame inflation amid a looming recession. Dimon said quantitative tightening and fragile energy supply could lead to an uncertain future. \"It's bad...those things are huge turbulence...that can easily cause a recession,\" Dimon further said.\n",
       " </div>,\n",
       " <div itemprop=\"articleBody\">The benchmark indices opened on a positive note on Friday with the Sensex rising 1,068.31 points to 58,303.64. The Nifty was up 295 points to 17,309.30. Infosys, ICICI Bank, SBI, Larsen and Toubro and Bajaj Finance were among the major gainers on the Nifty. All sectors opened higher with Nifty Bank and Nifty IT indices leading the front.\n",
       " </div>,\n",
       " <div itemprop=\"articleBody\">Adani Enterprises clarified it is not evaluating plans to buy Jaiprakash Associates' cement unit. This development comes amid reports that the firm was in advanced discussion with Jaiprakash Power Ventures to acquire its cement unit for around ₹5,000 crore. Adani Enterprises said, \"Company isn't evaluating any such proposal...not in a position to comment on the veracity of said media report.\"\n",
       " </div>,\n",
       " <div itemprop=\"articleBody\">Power Mech Projects Limited (PMPL) said it has bagged a ₹499.41-crore order from Bengaluru Metro Rail Corporation Limited for the construction of a depot cum workshop at Challaghatta in the Reach-2 Extension under phase 2 of the Bengaluru Metro. The project is awarded to RITES-PMPL, a joint venture of RITES Limited and Power Mech Projects, with 51:49 sharing.</div>,\n",
       " <div itemprop=\"articleBody\">Amid news reports of Tata Steel's exit from the UK market, CFO Koushik Chatterjee said the company is still actively engaging with the UK government regarding the subsidy issue and any talk of exit is speculative, Moneycontrol reported. Tata Steel UK has asked for £1.5 billion from British government for the transition to green energy, without which it might exit. </div>,\n",
       " <div itemprop=\"articleBody\">Chivas Regal maker Pernod Ricard's India head, Thibault Cuny, has stepped down from his role due to health reasons, the French spirits giant said. The company said Cuny will take a break from his professional duties but will stay on with Pernod. Cuny took over as the Managing Director and CEO of Pernod Ricard South Asia in 2019.</div>,\n",
       " <div itemprop=\"articleBody\">India's wholesale price index (WPI)-based inflation eased to 10.7% in September, the Ministry of Commerce and Industry data showed. WPI remained in the double digits for the 18th consecutive month beginning April 2021. WPI inflation surged to 12.41% during August, while it was revised to 14.07% from 13.93% for July, the data showed. WPI inflation in September 2021 was 11.80%.\n",
       " </div>,\n",
       " <div itemprop=\"articleBody\">India-UK free trade agreement (FTA) is no longer working towards a Diwali deadline, UK Trade Secretary Kemi Badenoch said. \"We're still working on a deal...things that have changed...we're no longer working to the Diwali deadline,\" Badenoch said. This comes amid reports of possible deadlock over issues like data localisation and UK firms being allowed to bid for Indian government contracts.\n",
       " </div>,\n",
       " <div itemprop=\"articleBody\">NCLT's Mumbai bench has reportedly approved the ₹4,050-crore resolution plan by ArcelorMittal's Indian arm for the debt-ridden Uttam Galva Steels. After Essar Steel and Odisha Slurry Pipeline Infrastructure, this is ArcelorMittal's third purchase through the insolvency process. NCLT had admitted an insolvency petition against Uttam Galva on SBI's plea in October 2020.\n",
       " \n",
       " </div>,\n",
       " <div itemprop=\"articleBody\">A day after Infosys reported an 11.1% year-on-year surge in quarterly net profit at ₹6,021 crore, its shares rose by 5% on Friday. At 11:10 am, Infosys' stock was trading 5.11% higher at ₹ 1,492.30 apiece on the BSE. Its revenue from operations surged 23.4% to ₹36,538 crore. Infosys will also buy back shares worth ₹9,300 crore to reward shareholders.</div>,\n",
       " <div itemprop=\"articleBody\">Asian governments spent about $50 billion in foreign exchange reserves in September, which is the highest since March 2020, amid surging US dollar, according to Exante Data Inc. Emerging Asian countries, excluding China, spent nearly $30 billion in dollar sales in the spot market in September, while the figure rose to $50 billion with the inclusion of Japan, Exante said.</div>,\n",
       " <div itemprop=\"articleBody\">The Securities Appellate Tribunal (SAT) has reportedly put a stay on SEBI's decision ordering Brickwork Ratings India to wind up operations within six months. The final hearing of the case will be held on November 15. SEBI had instructed Brickwork to not take on fresh clients for \"failure to exercise proper skill, care and diligence...duties as a credit rating agency\".</div>]"
      ]
     },
     "execution_count": 14,
     "metadata": {},
     "output_type": "execute_result"
    }
   ],
   "source": [
    "#Access the summaries\n",
    "summaries = soup2.find_all('div', itemprop='articleBody')\n",
    "summaries"
   ]
  },
  {
   "cell_type": "code",
   "execution_count": 15,
   "id": "fe4dbcef",
   "metadata": {},
   "outputs": [
    {
     "data": {
      "text/plain": [
       "(25, 25)"
      ]
     },
     "execution_count": 15,
     "metadata": {},
     "output_type": "execute_result"
    }
   ],
   "source": [
    "#Make sure I'm grabbing an equal number of titles and summaries\n",
    "len(titles), len(summaries)"
   ]
  },
  {
   "cell_type": "code",
   "execution_count": 16,
   "id": "21f690d6",
   "metadata": {},
   "outputs": [],
   "source": [
    "#Define a function to scrape articles from one topic\n",
    "def scrape_one_page(topic):\n",
    "    \n",
    "    base_url = 'https://inshorts.com/en/read/'\n",
    "    \n",
    "    response = get(base_url + topic)\n",
    "    \n",
    "    soup = BeautifulSoup(response.content, 'html.parser')\n",
    "    \n",
    "    titles = soup.find_all('span', itemprop='headline')\n",
    "    \n",
    "    summaries = soup.find_all('div', itemprop='articleBody')\n",
    "    \n",
    "    summary_list = []\n",
    "    \n",
    "    for i in range(len(titles)):\n",
    "        \n",
    "        temp_dict = {}\n",
    "        \n",
    "        temp_dict['title'] = titles[i].text\n",
    "        \n",
    "        temp_dict['content'] = summaries[i].text\n",
    "        \n",
    "        temp_dict['category'] = topic\n",
    "        \n",
    "        summary_list.append(temp_dict)\n",
    "        \n",
    "    return summary_list    "
   ]
  },
  {
   "cell_type": "code",
   "execution_count": 17,
   "id": "604a12fd",
   "metadata": {},
   "outputs": [
    {
     "data": {
      "text/plain": [
       "[{'title': 'Bandhan Bank onboards Sourav Ganguly as brand ambassador',\n",
       "  'content': 'Bandhan Bank has announced Sourav Ganguly as its brand ambassador. Fondly called \\'Dada\\' and \\'Maharaja of Indian Cricket\\', Sourav Ganguly will be the voice of Bandhan Bank, helping the brand take its message to the masses. \"This association is another step towards connecting strongly with consumers across the spectrum and reinforcing our ongoing mission of inclusive banking,\" the brand stated.',\n",
       "  'category': 'business'},\n",
       " {'title': 'Infosys let go of employees working for two companies in last 12 months: CEO',\n",
       "  'content': \"Infosys CEO Salil Parekh has revealed that the company let go of employees who were found to be working at two specific companies in the last 12 months. The fired employees were working for companies where there were issues regarding confidentiality, Parekh added. Last month, Wipro fired around 300 employees who were working directly for the IT company's competitors.\",\n",
       "  'category': 'business'},\n",
       " {'title': 'Layoffs will be the absolute last thing at Zoho, it destroys loyalty: CEO',\n",
       "  'content': 'Software startup Zoho\\'s CEO Sridhar Vembu said that layoffs will be the \"absolute last thing\" that the company will ever consider. \"It kind of destroys loyalty...If we want our employees to be loyal, we have to be loyal to them,\" the billionaire explained. Vembu further said that even when the times are tough, the company needs to retain its talent.',\n",
       "  'category': 'business'},\n",
       " {'title': 'Musk is under federal probe over his conduct in $44 billion deal, says Twitter',\n",
       "  'content': 'Twitter has claimed that the world\\'s richest person Elon Musk is being investigated by federal authorities over his conduct in his $44-billion takeover deal. Attorneys for the Tesla CEO claimed \"investigative privilege\" when refusing to hand over documents, Twitter said in a court filing. \"This game of \\'hide the ball\\' must end,\" the company, which sued Musk in July, added.',\n",
       "  'category': 'business'},\n",
       " {'title': 'Centre announces one-time aide for paddy straw pellet makers',\n",
       "  'content': \"Centre said it'll provide one-time financial support for setting up pellet manufacturing and torrefaction plants to enhance paddy straw utilisation in power plants and industries. Union Minister Bhupender Yadav released CPCB guidelines for this. A maximum grant of ₹14 lakh per ton/hour for a non-torrefied pellet plant and ₹28 lakh per ton/hour for a torrefied pellet plant is being provided. \",\n",
       "  'category': 'business'},\n",
       " {'title': 'JPMorgan cuts ties with Kanye, gives him until Nov 21 to move assets',\n",
       "  'content': 'JPMorgan Chase has cut ties with Kanye West, officially known as Ye, and has given him until November 21 to transfer his business to another bank. A letter apparently sent by the bank to the rapper was shared by conservative activist Candace Owens. The bank reportedly sent the letter in September, weeks before Kanye received criticism over his anti-Semitic comments.',\n",
       "  'category': 'business'},\n",
       " {'title': 'US-based Bitcoin firm NYDIG lays off around 33% of its staff: Report',\n",
       "  'content': \"US-based Bitcoin company NYDIG laid off 110 employees, a third of its workforce, last month to cut costs, The Wall Street Journal reported. The company took the decision weeks before replacing its top two executives. Last year, NYDIG raised $1 billion in a funding round which increased the company's valuation to more than $7 billion.\",\n",
       "  'category': 'business'},\n",
       " {'title': 'US-based 6sense fires 150 workers globally, including India: Report',\n",
       "  'content': 'US-based AI firm 6sense has fired close to 150 employees globally, including India, citing uncertain macroeconomic conditions, Moneycontrol reported. The layoffs happened across teams including content, design, sales and marketing. Employees were reportedly offered to encash privilege leaves as part of severance package. The Tiger Global-backed company is currently valued at $5.2 billion.',\n",
       "  'category': 'business'},\n",
       " {'title': \"India's 5G is indigenous and can be provided to other nations: FM\",\n",
       "  'content': 'Union Finance Minister Nirmala Sitharaman said the 5G technology in India is completely indigenous except for some \"critical parts\" that have been imported. \"There could be some critical parts coming from, say, countries like (South) Korea, but certainly not from somebody else. So complete indigenous technology that we can now provide 5G (to any country) who wants it,\" Sitharaman said.\\n',\n",
       "  'category': 'business'},\n",
       " {'title': 'Infosys not to mandate return to office, flexible approach to continue: CEO',\n",
       "  'content': 'Infosys CEO Salil Parekh said the company has not mandated any fixed number of days that employees need to attend office physically and will continue with its flexible approach. \"In our India offices, we have about 45,000 employees in the office at any given time...We are finding that the approach taken so far has been well received,\" Parekh said.',\n",
       "  'category': 'business'},\n",
       " {'title': 'WeWork India invests in Bengaluru-based conferencing platform Zoapi',\n",
       "  'content': 'WeWork India has invested in Bengaluru-based conferencing and collaboration platform Zoapi for an undisclosed sum. Zoapi was co-founded by Prashanth NS and Chaitanya Vasantarao in 2019 and is a unified conferencing and collaboration solution provider for co-working spaces. Zoapi is also a member of the Intel IoT Solution alliance. WeWork entered the Indian market in 2017. ',\n",
       "  'category': 'business'},\n",
       " {'title': 'Gold, silver jewellery worth ₹3,000 cr sold on Karwa Chauth: CAIT',\n",
       "  'content': \"Indian traders' and retailers' bodies CAIT and AIJGF said that gold and silver jewellery reported around 36% of increases in sales on the occasion of Karwa Chauth on Thursday compared to last year. Gold and silver jewellery worth ₹3,000 crore was reportedly sold in India on Thursday. Price of 24-carat gold in Delhi was ₹52,000 per 10 grams, they added.\",\n",
       "  'category': 'business'},\n",
       " {'title': 'I-T Dept raids stores of garment retailer RS Brothers in Hyderabad',\n",
       "  'content': 'The Income Tax Department on Friday conducted searches at multiple stores and offices of garment and jewellery retailer RS Brothers. As per reports, raids were conducted over investments made by the company in the real estate business. Income Tax officials reportedly checked the transactions made by RS Brothers. They also searched the offices of some real estate firms.',\n",
       "  'category': 'business'},\n",
       " {'title': 'US interest rates may go over 4.5% to tame inflation: JPMorgan CEO',\n",
       "  'content': 'America\\'s largest bank JPMorgan Chase\\'s CEO Jamie Dimon warned that US policymakers might have to increase interest rates to more than 4.5% to tame inflation amid a looming recession. Dimon said quantitative tightening and fragile energy supply could lead to an uncertain future. \"It\\'s bad...those things are huge turbulence...that can easily cause a recession,\" Dimon further said.\\n',\n",
       "  'category': 'business'},\n",
       " {'title': 'Sensex jumps over 1,000 points, Nifty opens above 17,300',\n",
       "  'content': 'The benchmark indices opened on a positive note on Friday with the Sensex rising 1,068.31 points to 58,303.64. The Nifty was up 295 points to 17,309.30. Infosys, ICICI Bank, SBI, Larsen and Toubro and Bajaj Finance were among the major gainers on the Nifty. All sectors opened higher with Nifty Bank and Nifty IT indices leading the front.\\n',\n",
       "  'category': 'business'},\n",
       " {'title': \"No plans to buy Jaiprakash Associates' cement unit: Adani Enterprises\",\n",
       "  'content': 'Adani Enterprises clarified it is not evaluating plans to buy Jaiprakash Associates\\' cement unit. This development comes amid reports that the firm was in advanced discussion with Jaiprakash Power Ventures to acquire its cement unit for around ₹5,000 crore. Adani Enterprises said, \"Company isn\\'t evaluating any such proposal...not in a position to comment on the veracity of said media report.\"\\n',\n",
       "  'category': 'business'},\n",
       " {'title': 'Power Mech-RITES JV bags ₹499.41-cr order from Bengaluru Metro',\n",
       "  'content': 'Power Mech Projects Limited (PMPL) said it has bagged a ₹499.41-crore order from Bengaluru Metro Rail Corporation Limited for the construction of a depot cum workshop at Challaghatta in the Reach-2 Extension under phase 2 of the Bengaluru Metro. The project is awarded to RITES-PMPL, a joint venture of RITES Limited and Power Mech Projects, with 51:49 sharing.',\n",
       "  'category': 'business'},\n",
       " {'title': 'Talk of UK exit speculative, engaging with govt on subsidy: Tata Steel',\n",
       "  'content': \"Amid news reports of Tata Steel's exit from the UK market, CFO Koushik Chatterjee said the company is still actively engaging with the UK government regarding the subsidy issue and any talk of exit is speculative, Moneycontrol reported. Tata Steel UK has asked for £1.5 billion from British government for the transition to green energy, without which it might exit. \",\n",
       "  'category': 'business'},\n",
       " {'title': \"Chivas Regal maker's India head steps down due to health reasons\",\n",
       "  'content': \"Chivas Regal maker Pernod Ricard's India head, Thibault Cuny, has stepped down from his role due to health reasons, the French spirits giant said. The company said Cuny will take a break from his professional duties but will stay on with Pernod. Cuny took over as the Managing Director and CEO of Pernod Ricard South Asia in 2019.\",\n",
       "  'category': 'business'},\n",
       " {'title': 'WPI inflation falls to 10.7% in Sept, in double digits for 18 straight months',\n",
       "  'content': \"India's wholesale price index (WPI)-based inflation eased to 10.7% in September, the Ministry of Commerce and Industry data showed. WPI remained in the double digits for the 18th consecutive month beginning April 2021. WPI inflation surged to 12.41% during August, while it was revised to 14.07% from 13.93% for July, the data showed. WPI inflation in September 2021 was 11.80%.\\n\",\n",
       "  'category': 'business'},\n",
       " {'title': 'India-UK FTA no longer has a Diwali deadline: UK Trade Secretary',\n",
       "  'content': 'India-UK free trade agreement (FTA) is no longer working towards a Diwali deadline, UK Trade Secretary Kemi Badenoch said. \"We\\'re still working on a deal...things that have changed...we\\'re no longer working to the Diwali deadline,\" Badenoch said. This comes amid reports of possible deadlock over issues like data localisation and UK firms being allowed to bid for Indian government contracts.\\n',\n",
       "  'category': 'business'},\n",
       " {'title': \"NCLT approves ArcelorMittal's ₹4,050-cr resolution plan for Uttam Galva \",\n",
       "  'content': \"NCLT's Mumbai bench has reportedly approved the ₹4,050-crore resolution plan by ArcelorMittal's Indian arm for the debt-ridden Uttam Galva Steels. After Essar Steel and Odisha Slurry Pipeline Infrastructure, this is ArcelorMittal's third purchase through the insolvency process. NCLT had admitted an insolvency petition against Uttam Galva on SBI's plea in October 2020.\\n\\n\",\n",
       "  'category': 'business'},\n",
       " {'title': 'Infosys shares surge 5% after Q2 results, ₹9,300-cr buyback news',\n",
       "  'content': \"A day after Infosys reported an 11.1% year-on-year surge in quarterly net profit at ₹6,021 crore, its shares rose by 5% on Friday. At 11:10 am, Infosys' stock was trading 5.11% higher at ₹ 1,492.30 apiece on the BSE. Its revenue from operations surged 23.4% to ₹36,538 crore. Infosys will also buy back shares worth ₹9,300 crore to reward shareholders.\",\n",
       "  'category': 'business'},\n",
       " {'title': 'Asian govts spent $50 bn forex reserves in Sept amid rising dollar: Report',\n",
       "  'content': 'Asian governments spent about $50 billion in foreign exchange reserves in September, which is the highest since March 2020, amid surging US dollar, according to Exante Data Inc. Emerging Asian countries, excluding China, spent nearly $30 billion in dollar sales in the spot market in September, while the figure rose to $50 billion with the inclusion of Japan, Exante said.',\n",
       "  'category': 'business'},\n",
       " {'title': \"SAT stays SEBI's shut down order against Brickwork Ratings: Report\",\n",
       "  'content': 'The Securities Appellate Tribunal (SAT) has reportedly put a stay on SEBI\\'s decision ordering Brickwork Ratings India to wind up operations within six months. The final hearing of the case will be held on November 15. SEBI had instructed Brickwork to not take on fresh clients for \"failure to exercise proper skill, care and diligence...duties as a credit rating agency\".',\n",
       "  'category': 'business'}]"
      ]
     },
     "execution_count": 17,
     "metadata": {},
     "output_type": "execute_result"
    }
   ],
   "source": [
    "#Test my function on the business page\n",
    "business_test = scrape_one_page('business')\n",
    "business_test"
   ]
  },
  {
   "cell_type": "code",
   "execution_count": 18,
   "id": "64708fb2",
   "metadata": {},
   "outputs": [],
   "source": [
    "#Define a function that will scrape information about an array of topics\n",
    "def get_news_articles():\n",
    "    \n",
    "    file = 'news_articles.json'\n",
    "    \n",
    "    if os.path.exists(file):\n",
    "        \n",
    "        with open(file) as f:\n",
    "            \n",
    "            return json.load(f)\n",
    "    \n",
    "    topic_list = ['business', 'sports', 'technology', 'entertainment']\n",
    "    \n",
    "    final_list = []\n",
    "    \n",
    "    for topic in topic_list:\n",
    "        \n",
    "        final_list.extend(scrape_one_page(topic))\n",
    "        \n",
    "    with open(file, 'w') as f:\n",
    "        \n",
    "        json.dump(final_list, f)\n",
    "        \n",
    "    return final_list    "
   ]
  },
  {
   "cell_type": "code",
   "execution_count": 19,
   "id": "74c3dbd2",
   "metadata": {},
   "outputs": [
    {
     "data": {
      "text/plain": [
       "[{'title': 'Bandhan Bank onboards Sourav Ganguly as brand ambassador',\n",
       "  'content': 'Bandhan Bank has announced Sourav Ganguly as its brand ambassador. Fondly called \\'Dada\\' and \\'Maharaja of Indian Cricket\\', Sourav Ganguly will be the voice of Bandhan Bank, helping the brand take its message to the masses. \"This association is another step towards connecting strongly with consumers across the spectrum and reinforcing our ongoing mission of inclusive banking,\" the brand stated.',\n",
       "  'category': 'business'},\n",
       " {'title': 'Musk is under federal probe over his conduct in $44 billion deal, says Twitter',\n",
       "  'content': 'Twitter has claimed that the world\\'s richest person Elon Musk is being investigated by federal authorities over his conduct in his $44-billion takeover deal. Attorneys for the Tesla CEO claimed \"investigative privilege\" when refusing to hand over documents, Twitter said in a court filing. \"This game of \\'hide the ball\\' must end,\" the company, which sued Musk in July, added.',\n",
       "  'category': 'business'},\n",
       " {'title': 'Layoffs will be the absolute last thing at Zoho, it destroys loyalty: CEO',\n",
       "  'content': 'Software startup Zoho\\'s CEO Sridhar Vembu said that layoffs will be the \"absolute last thing\" that the company will ever consider. \"It kind of destroys loyalty...If we want our employees to be loyal, we have to be loyal to them,\" the billionaire explained. Vembu further said that even when the times are tough, the company needs to retain its talent.',\n",
       "  'category': 'business'},\n",
       " {'title': 'Infosys let go of employees working for two companies in last 12 months: CEO',\n",
       "  'content': \"Infosys CEO Salil Parekh has revealed that the company let go of employees who were found to be working at two specific companies in the last 12 months. The fired employees were working for companies where there were issues regarding confidentiality, Parekh added. Last month, Wipro fired around 300 employees who were working directly for the IT company's competitors.\",\n",
       "  'category': 'business'},\n",
       " {'title': 'Centre announces one-time aide for paddy straw pellet makers',\n",
       "  'content': \"Centre said it'll provide one-time financial support for setting up pellet manufacturing and torrefaction plants to enhance paddy straw utilisation in power plants and industries. Union Minister Bhupender Yadav released CPCB guidelines for this. A maximum grant of ₹14 lakh per ton/hour for a non-torrefied pellet plant and ₹28 lakh per ton/hour for a torrefied pellet plant is being provided. \",\n",
       "  'category': 'business'},\n",
       " {'title': 'JPMorgan cuts ties with Kanye, gives him until Nov 21 to move assets',\n",
       "  'content': 'JPMorgan Chase has cut ties with Kanye West, officially known as Ye, and has given him until November 21 to transfer his business to another bank. A letter apparently sent by the bank to the rapper was shared by conservative activist Candace Owens. The bank reportedly sent the letter in September, weeks before Kanye received criticism over his anti-Semitic comments.',\n",
       "  'category': 'business'},\n",
       " {'title': 'US-based Bitcoin firm NYDIG lays off around 33% of its staff: Report',\n",
       "  'content': \"US-based Bitcoin company NYDIG laid off 110 employees, a third of its workforce, last month to cut costs, The Wall Street Journal reported. The company took the decision weeks before replacing its top two executives. Last year, NYDIG raised $1 billion in a funding round which increased the company's valuation to more than $7 billion.\",\n",
       "  'category': 'business'},\n",
       " {'title': \"India's 5G is indigenous and can be provided to other nations: FM\",\n",
       "  'content': 'Union Finance Minister Nirmala Sitharaman said the 5G technology in India is completely indigenous except for some \"critical parts\" that have been imported. \"There could be some critical parts coming from, say, countries like (South) Korea, but certainly not from somebody else. So complete indigenous technology that we can now provide 5G (to any country) who wants it,\" Sitharaman said.\\n',\n",
       "  'category': 'business'},\n",
       " {'title': 'US-based 6sense fires 150 workers globally, including India: Report',\n",
       "  'content': 'US-based AI firm 6sense has fired close to 150 employees globally, including India, citing uncertain macroeconomic conditions, Moneycontrol reported. The layoffs happened across teams including content, design, sales and marketing. Employees were reportedly offered to encash privilege leaves as part of severance package. The Tiger Global-backed company is currently valued at $5.2 billion.',\n",
       "  'category': 'business'},\n",
       " {'title': 'Infosys not to mandate return to office, flexible approach to continue: CEO',\n",
       "  'content': 'Infosys CEO Salil Parekh said the company has not mandated any fixed number of days that employees need to attend office physically and will continue with its flexible approach. \"In our India offices, we have about 45,000 employees in the office at any given time...We are finding that the approach taken so far has been well received,\" Parekh said.',\n",
       "  'category': 'business'},\n",
       " {'title': 'WeWork India invests in Bengaluru-based conferencing platform Zoapi',\n",
       "  'content': 'WeWork India has invested in Bengaluru-based conferencing and collaboration platform Zoapi for an undisclosed sum. Zoapi was co-founded by Prashanth NS and Chaitanya Vasantarao in 2019 and is a unified conferencing and collaboration solution provider for co-working spaces. Zoapi is also a member of the Intel IoT Solution alliance. WeWork entered the Indian market in 2017. ',\n",
       "  'category': 'business'},\n",
       " {'title': 'Gold, silver jewellery worth ₹3,000 cr sold on Karwa Chauth: CAIT',\n",
       "  'content': \"Indian traders' and retailers' bodies CAIT and AIJGF said that gold and silver jewellery reported around 36% of increases in sales on the occasion of Karwa Chauth on Thursday compared to last year. Gold and silver jewellery worth ₹3,000 crore was reportedly sold in India on Thursday. Price of 24-carat gold in Delhi was ₹52,000 per 10 grams, they added.\",\n",
       "  'category': 'business'},\n",
       " {'title': 'I-T Dept raids stores of garment retailer RS Brothers in Hyderabad',\n",
       "  'content': 'The Income Tax Department on Friday conducted searches at multiple stores and offices of garment and jewellery retailer RS Brothers. As per reports, raids were conducted over investments made by the company in the real estate business. Income Tax officials reportedly checked the transactions made by RS Brothers. They also searched the offices of some real estate firms.',\n",
       "  'category': 'business'},\n",
       " {'title': 'US interest rates may go over 4.5% to tame inflation: JPMorgan CEO',\n",
       "  'content': 'America\\'s largest bank JPMorgan Chase\\'s CEO Jamie Dimon warned that US policymakers might have to increase interest rates to more than 4.5% to tame inflation amid a looming recession. Dimon said quantitative tightening and fragile energy supply could lead to an uncertain future. \"It\\'s bad...those things are huge turbulence...that can easily cause a recession,\" Dimon further said.\\n',\n",
       "  'category': 'business'},\n",
       " {'title': \"No plans to buy Jaiprakash Associates' cement unit: Adani Enterprises\",\n",
       "  'content': 'Adani Enterprises clarified it is not evaluating plans to buy Jaiprakash Associates\\' cement unit. This development comes amid reports that the firm was in advanced discussion with Jaiprakash Power Ventures to acquire its cement unit for around ₹5,000 crore. Adani Enterprises said, \"Company isn\\'t evaluating any such proposal...not in a position to comment on the veracity of said media report.\"\\n',\n",
       "  'category': 'business'},\n",
       " {'title': 'WPI inflation falls to 10.7% in Sept, in double digits for 18 straight months',\n",
       "  'content': \"India's wholesale price index (WPI)-based inflation eased to 10.7% in September, the Ministry of Commerce and Industry data showed. WPI remained in the double digits for the 18th consecutive month beginning April 2021. WPI inflation surged to 12.41% during August, while it was revised to 14.07% from 13.93% for July, the data showed. WPI inflation in September 2021 was 11.80%.\\n\",\n",
       "  'category': 'business'},\n",
       " {'title': \"NCLT approves ArcelorMittal's ₹4,050-cr resolution plan for Uttam Galva \",\n",
       "  'content': \"NCLT's Mumbai bench has reportedly approved the ₹4,050-crore resolution plan by ArcelorMittal's Indian arm for the debt-ridden Uttam Galva Steels. After Essar Steel and Odisha Slurry Pipeline Infrastructure, this is ArcelorMittal's third purchase through the insolvency process. NCLT had admitted an insolvency petition against Uttam Galva on SBI's plea in October 2020.\\n\\n\",\n",
       "  'category': 'business'},\n",
       " {'title': 'Power Mech-RITES JV bags ₹499.41-cr order from Bengaluru Metro',\n",
       "  'content': 'Power Mech Projects Limited (PMPL) said it has bagged a ₹499.41-crore order from Bengaluru Metro Rail Corporation Limited for the construction of a depot cum workshop at Challaghatta in the Reach-2 Extension under phase 2 of the Bengaluru Metro. The project is awarded to RITES-PMPL, a joint venture of RITES Limited and Power Mech Projects, with 51:49 sharing.',\n",
       "  'category': 'business'},\n",
       " {'title': 'Sensex jumps over 1,000 points, Nifty opens above 17,300',\n",
       "  'content': 'The benchmark indices opened on a positive note on Friday with the Sensex rising 1,068.31 points to 58,303.64. The Nifty was up 295 points to 17,309.30. Infosys, ICICI Bank, SBI, Larsen and Toubro and Bajaj Finance were among the major gainers on the Nifty. All sectors opened higher with Nifty Bank and Nifty IT indices leading the front.\\n',\n",
       "  'category': 'business'},\n",
       " {'title': 'Infosys shares surge 5% after Q2 results, ₹9,300-cr buyback news',\n",
       "  'content': \"A day after Infosys reported an 11.1% year-on-year surge in quarterly net profit at ₹6,021 crore, its shares rose by 5% on Friday. At 11:10 am, Infosys' stock was trading 5.11% higher at ₹ 1,492.30 apiece on the BSE. Its revenue from operations surged 23.4% to ₹36,538 crore. Infosys will also buy back shares worth ₹9,300 crore to reward shareholders.\",\n",
       "  'category': 'business'},\n",
       " {'title': \"SAT stays SEBI's shut down order against Brickwork Ratings: Report\",\n",
       "  'content': 'The Securities Appellate Tribunal (SAT) has reportedly put a stay on SEBI\\'s decision ordering Brickwork Ratings India to wind up operations within six months. The final hearing of the case will be held on November 15. SEBI had instructed Brickwork to not take on fresh clients for \"failure to exercise proper skill, care and diligence...duties as a credit rating agency\".',\n",
       "  'category': 'business'},\n",
       " {'title': 'Talk of UK exit speculative, engaging with govt on subsidy: Tata Steel',\n",
       "  'content': \"Amid news reports of Tata Steel's exit from the UK market, CFO Koushik Chatterjee said the company is still actively engaging with the UK government regarding the subsidy issue and any talk of exit is speculative, Moneycontrol reported. Tata Steel UK has asked for £1.5 billion from British government for the transition to green energy, without which it might exit. \",\n",
       "  'category': 'business'},\n",
       " {'title': \"Chivas Regal maker's India head steps down due to health reasons\",\n",
       "  'content': \"Chivas Regal maker Pernod Ricard's India head, Thibault Cuny, has stepped down from his role due to health reasons, the French spirits giant said. The company said Cuny will take a break from his professional duties but will stay on with Pernod. Cuny took over as the Managing Director and CEO of Pernod Ricard South Asia in 2019.\",\n",
       "  'category': 'business'},\n",
       " {'title': 'India-UK FTA no longer has a Diwali deadline: UK Trade Secretary',\n",
       "  'content': 'India-UK free trade agreement (FTA) is no longer working towards a Diwali deadline, UK Trade Secretary Kemi Badenoch said. \"We\\'re still working on a deal...things that have changed...we\\'re no longer working to the Diwali deadline,\" Badenoch said. This comes amid reports of possible deadlock over issues like data localisation and UK firms being allowed to bid for Indian government contracts.\\n',\n",
       "  'category': 'business'},\n",
       " {'title': 'Asian govts spent $50 bn forex reserves in Sept amid rising dollar: Report',\n",
       "  'content': 'Asian governments spent about $50 billion in foreign exchange reserves in September, which is the highest since March 2020, amid surging US dollar, according to Exante Data Inc. Emerging Asian countries, excluding China, spent nearly $30 billion in dollar sales in the spot market in September, while the figure rose to $50 billion with the inclusion of Japan, Exante said.',\n",
       "  'category': 'business'},\n",
       " {'title': 'Urvashi Rautela reacts to allegations of stalking Rishabh Pant, shares Australia map',\n",
       "  'content': 'Actress Urvashi Rautela took to Instagram to react to allegations of her stalking cricketer Rishabh Pant. Urvashi claimed she\\'s being bullied and called a stalker just because she \"never says wrong\" about anybody. Urvashi, who was accused of visiting Australia to stalk Pant, shared Australia map and wrote, \"This is for Indian media to see how big Australia is.\"',\n",
       "  'category': 'sports'},\n",
       " {'title': \"Kohli talks to Pandya for 20 minutes after India's defeat in warm-up match, video viral\",\n",
       "  'content': \"A video has gone viral showing former Team India captain Virat Kohli talking to all-rounder Hardik Pandya for 20 minutes on the ground after India's defeat in their warm-up match against Western Australia. In the video shared by journalist Vimal Kumar, Kohli can apparently be seen giving batting tips to Pandya. Notably, Kohli did not feature in the warm-up match.\",\n",
       "  'category': 'sports'},\n",
       " {'title': 'Prithvi Shaw smashes highest T20 score by an Indian in 2022',\n",
       "  'content': 'Mumbai opener Prithvi Shaw on Friday smashed the highest T20 score by an Indian in 2022. The 22-year-old slammed 134(61), including 13 fours and nine sixes, against Assam in Syed Mushtaq Ali Trophy. The previous highest T20 score by an Indian in 2022 was registered by Karnataka opener Devdutt Padikkal, who slammed 124*(62) against Maharashtra on Tuesday.',\n",
       "  'category': 'sports'},\n",
       " {'title': \"Rohit doesn't feature in India's practice match despite being named in XI, fans react\",\n",
       "  'content': 'Team India captain Rohit Sharma didn\\'t feature in India\\'s practice match against Western Australia despite being named in playing XI. KL Rahul was named captain in the team sheet despite Rohit being included in the side. \"Hope he is not injured,\" a fan tweeted. \"Where is Rohit?\" wrote another. India lost the practice match by 36 runs.',\n",
       "  'category': 'sports'},\n",
       " {'title': 'I will go on to do bigger things: Sourav Ganguly on exit from BCCI',\n",
       "  'content': 'Sourav Ganguly, who\\'ll reportedly hold no post in BCCI following his end of tenure as BCCI President, said, \"I\\'ve been an administrator and I\\'ll move on to something else.\" He added, \"I will go on to do bigger things. You can\\'t be a player forever, you can\\'t be an administrator forever. It\\'s been great doing both.\"',\n",
       "  'category': 'sports'},\n",
       " {'title': \"Mohammad Shami replaces Jasprit Bumrah in India's T20 World Cup 2022 squad\",\n",
       "  'content': \"The BCCI on Friday named fast bowler Mohammad Shami as Jasprit Bumrah's replacement in India's T20 World Cup 2022 squad. Shami has reached Australia and will link up with the squad in Brisbane ahead of the warm-up matches, the BCCI said. Further, Mohammed Siraj and Shardul Thakur have been named as backups and will travel to Australia shortly.\",\n",
       "  'category': 'sports'},\n",
       " {'title': \"Michael Schumacher's 20-year-old nephew breaks his spine in fireball crash\",\n",
       "  'content': \"Michael Schumacher's 20-year-old nephew David broke his spine after being involved in fireball crash during a DTM race in Germany. David was involved in the collision with Thomas Preining on lap six. It also resulted in another driver's car bursting into flames. David was initially given an all-clear but further scans confirmed a broken lumbar vertebra in his back.\",\n",
       "  'category': 'sports'},\n",
       " {'title': 'Never thought we would see 4 sixes in final over at T20 WC 2016: Sammy',\n",
       "  'content': 'Ex-West Indies skipper Daren Sammy remembered the last over of the 2016 T20 World Cup final where Carlos Brathwaite helped his team to win the title by smashing four sixes. \"I remember Chris [Gayle] saying that 19 [runs in the last over] is a lot. But...Man oh man, I never thought we would see four [consecutive] sixes,\" Sammy said.',\n",
       "  'category': 'sports'},\n",
       " {'title': 'Will accept whatever decision comes: Warner on captaincy restoration decision',\n",
       "  'content': 'Amid the talks about his lifetime ban from captaining Australia being revoked, batter David Warner said that he will accept whatever decision is being taken by Cricket Australia. \"If it does get overturned, that\\'ll be great for me...If I ever get presented with that (captain of the Australian white ball teams) opportunity, it will be a privilege,\" Warner said. ',\n",
       "  'category': 'sports'},\n",
       " {'title': \"Look to score vs Shaheen, don't just survive: Gambhir to India batters\",\n",
       "  'content': 'Gautam Gambhir said Team India\\'s batters should look to score runs against Pakistan\\'s Shaheen Afridi rather than simply looking to survive, when the teams face off in the T20 World Cup 2022 on October 23. \"The moment you look to survive, everything becomes really small...Team India [have] got...quality batters in their top...four who can definitely take on Shaheen,\" added Gambhir.',\n",
       "  'category': 'sports'},\n",
       " {'title': 'KL Rahul could be top run-scorer for India at T20 WC 2022: Aakash Chopra',\n",
       "  'content': 'Ex-India cricketer Aakash Chopra has said opener KL Rahul could be the top run-scorer for India at upcoming T20 World Cup 2022 in Australia. \"He has an opportunity to bat all 20 overs, and...also has the game to bat till the end. These pitches will suit him a lot as the ball will come nicely onto the bat,\" he added.',\n",
       "  'category': 'sports'},\n",
       " {'title': \"I'd like to see Australia, India, Pakistan in T20 WC semi-finals: Akram\",\n",
       "  'content': 'Ahead of T20 World Cup 2022, ex-Pakistan captain Wasim Akram backed India, Pakistan and Australia to play in the semi-finals of the tournament in Australia. \"But South Africa could be a dark horse,\" said Akram. India failed to reach the knockout stage in the 2021 edition. Australia are the defending champions. World Cup will begin on Sunday. ',\n",
       "  'category': 'sports'},\n",
       " {'title': 'Winner of India-Pak match will reach T20 WC 2022 semis: Aakash Chopra',\n",
       "  'content': 'Cricketer-turned-commentator Aakash Chopra said the team emerging victorious in the T20 World Cup 2022 match between India and Pakistan on October 23, will reach the semi-finals of the tournament. \"We say that Pakistan drop so many catches but the fact is that we drop more catches than them,\" Aakash had earlier stated while discussing Team India\\'s fielding.',\n",
       "  'category': 'sports'},\n",
       " {'title': 'I would never write off WI, something special will happen in Aus: Sammy',\n",
       "  'content': 'Ex-West Indies skipper Daren Sammy said that he would never write off the Caribbean team in a tournament and feels something special will happen in the T20 World Cup in Australia. \"Kyle Mayers is such a talent...and we know Nicholas [Pooran] is a match-winner. The good thing this time round is we have bowlers who can take wickets,\" Sammy said.',\n",
       "  'category': 'sports'},\n",
       " {'title': \"One will rarely claim that Hardik can be T20 WC's top run-scorer: Nehra\",\n",
       "  'content': 'Discussing the upcoming T20 World Cup 2022, ex-India pacer Ashish Nehra said, \"You will rarely see anyone claim that Dinesh Karthik or Hardik Pandya will finish as the tournament\\'s leading run-getter because they\\'ll face fewer deliveries.\" \"Whoever bats at the top will...be among the runs,\" added Nehra. India will face Pakistan in their first match of T20 World Cup 2022.',\n",
       "  'category': 'sports'},\n",
       " {'title': \"India picked too many spinners for WC, Umran should've been taken: Arun\",\n",
       "  'content': 'Ex-Team India bowling coach Bharat Arun said Team India have picked \"far too many\" spinners for the T20 World Cup 2022, adding that selecting pacer Umran Malik instead of one spinner would\\'ve been \"very wise\". \"There\\'s bounce, the grounds are big...Umran is exciting, he\\'s got the pace...and given the right kind of fields he\\'s done...well in the IPL,\" he stated.',\n",
       "  'category': 'sports'},\n",
       " {'title': \"Having such a bowler gives confidence: Harmanpreet on Deepti's 3/7 vs Thailand\",\n",
       "  'content': \"Praising all-rounder Deepti Sharma for her performance in their 74-run win against Thailand in the Women's Asia Cup T20 2022, India Women captain Harmanpreet Kaur said having a bowler like her, who's willing to bowl at any stage during the match, gives confidence to the team. Against Thailand, Deepti picked three wickets while conceding seven runs in her four overs.\",\n",
       "  'category': 'sports'},\n",
       " {'title': 'Temba Bavuma as a captain, as a batter, is a weakness: Aakash Chopra',\n",
       "  'content': 'Cricketer-turned-commentator Aakash Chopra has said that South Africa captain Temba Bavuma shouldn\\'t be in their squad for the upcoming T20 World Cup. \"I\\'d like to apologise to him as I shouldn\\'t be saying this to an international player...[but] Bavuma as a captain, as a batter, is a weakness,\" stated Aakash. Bavuma went unsold in the auction for the SA20 league.',\n",
       "  'category': 'sports'},\n",
       " {'title': 'India can definitely finish on podium at hockey WC 2023: Baskaran',\n",
       "  'content': 'Ex-Indian men\\'s hockey team captain and coach Vasudevan Baskaran said he believes that India can definitely finish on the podium at hockey World Cup 2023 in Odisha. \"They should move on from the CWG final loss to Australia and ride on the confidence they gained from the Tokyo Olympic Games,\" he added. India finished sixth at World Cup in 2018.',\n",
       "  'category': 'sports'},\n",
       " {'title': \"I don't even know him: Babar on viral video of Pak TV host criticising him\",\n",
       "  'content': 'On being asked about his criticism in reference to a viral video in which Pakistan TV host Aftab Iqbal is seen criticising him, Pakistan captain Babar Azam said, \"I don\\'t know who you\\'re talking about. I don\\'t even know him.\" In the viral clip, Iqbal says, \"Babar is no more a star for me...because of his ego issues with players.\"',\n",
       "  'category': 'sports'},\n",
       " {'title': \"Thought I'll reach my peak at 24: 21-yr-old Swiatek after her 61st win in 2022\",\n",
       "  'content': 'After her Tour-leading 61st win of the year, world number one Iga Swiatek said, \"I wasn\\'t expecting to have this kind of season this year.\" She added, \"I thought, maybe, I\\'m going to be at my peak when I\\'m 24, 25.\" The 21-year-old\\'s 61 wins are the most in a single season since Caroline Wozniacki\\'s 60 in 2017.',\n",
       "  'category': 'sports'},\n",
       " {'title': \"Iftikhar plays like MS Dhoni but can't finish like Dhoni did: Ajmal\",\n",
       "  'content': 'Former Pakistan spinner Saeed Ajmal said Pakistan batter Iftikhar Ahmad bats like MS Dhoni but cannot finish like Dhoni used to. \"Dhoni used to take singles and hit sixes towards the end to compensate...Iftikhar plays 10 dot balls...and when...[he tries] to recover by hitting big shots...[he gets] out,\" added Ajmal. \"Where do you stand?\" he stated.',\n",
       "  'category': 'sports'},\n",
       " {'title': \"I'm more confident about my game now: Shafali on her form in Asia Cup\",\n",
       "  'content': 'India Women opener Shafali Verma, who scored 42 off 28 balls in their semi-final win against Thailand in the ongoing Asia Cup, has said she\\'s more confident about her game now. \"The wicket was good to bat and felt good,\" she said. Shafali has crossed the 40-run mark three times in her five innings in the tournament.',\n",
       "  'category': 'sports'},\n",
       " {'title': 'This is as good a line-up as India ever had: Shastri on team for T20 WC',\n",
       "  'content': 'Former Team India head coach Ravi Shastri, during a media interaction, expressed confidence in India\\'s batting unit for the upcoming T20 World Cup, stating, \"This is as good a batting line-up as India ever had in T20 cricket.\" Shastri added, \"This Indian team, they have played superbly in Australia. Those tracks suit their batting.\"',\n",
       "  'category': 'sports'},\n",
       " {'title': 'A champion in every sense: Yuvraj to Gambhir on his 41st birthday',\n",
       "  'content': 'Yuvraj Singh took to Twitter to wish Gautam Gambhir on his 41st birthday and wrote, \"Wishing a very happy birthday to my dear brother Gautam Gambhir - a champion in every sense! Lots of love GG.\" Suresh Raina tweeted, \"Wishing Gambhir all the love and success on his birthday today! A true friend and a gracious human being.\"',\n",
       "  'category': 'sports'},\n",
       " {'title': 'British artist live-streams burning 1,000 of his paintings after selling them as NFTs',\n",
       "  'content': \"British artist Damien Hirst burnt 1,000 paintings that were a part of his collection called 'The Currency' after he sold them in digital form as non-fungible tokens (NFTs). After launching the collection in 2021, Hirst gave a choice to buyers to either keep the NFT or acquire a piece of the physical work. He also live-streamed himself burning the paintings. \",\n",
       "  'category': 'technology'},\n",
       " {'title': 'We do not support dual employment: Infosys on moonlighting',\n",
       "  'content': 'Infosys CEO Salil Parekh spoke on the moonlighting debate in the IT industry and said, \"To be clear, we don\\'t support dual employment.\" He said that the company supports employees working on certain external gig projects after the prior approval of managers. He also revealed Infosys let go of some employees after they were found working in two different companies.',\n",
       "  'category': 'technology'},\n",
       " {'title': 'Musk is under federal probe over his conduct in $44 billion deal, says Twitter',\n",
       "  'content': 'Twitter has claimed that the world\\'s richest person Elon Musk is being investigated by federal authorities over his conduct in his $44-billion takeover deal. Attorneys for the Tesla CEO claimed \"investigative privilege\" when refusing to hand over documents, Twitter said in a court filing. \"This game of \\'hide the ball\\' must end,\" the company, which sued Musk in July, added.',\n",
       "  'category': 'technology'},\n",
       " {'title': 'Infosys let go of employees working for two companies in last 12 months: CEO',\n",
       "  'content': \"Infosys CEO Salil Parekh has revealed that the company let go of employees who were found to be working at two specific companies in the last 12 months. The fired employees were working for companies where there were issues regarding confidentiality, Parekh added. Last month, Wipro fired around 300 employees who were working directly for the IT company's competitors.\",\n",
       "  'category': 'technology'},\n",
       " {'title': \"Musk sells $1 million worth of 'Burnt Hair' perfume within hours of launch\",\n",
       "  'content': 'The world\\'s richest person Elon Musk earned a million dollars within a few hours after he sold 10,000 bottles of his newly-launched \\'Burnt Hair\\' perfume. Musk also changed his Twitter bio to \\'perfume salesman\\' and on Thursday tweeted, \"Please buy my perfume, so I can buy Twitter.\" The perfume is priced at $100 and being sold under The Boring Company. ',\n",
       "  'category': 'technology'},\n",
       " {'title': \"Meta's Product Design VP Margaret Stewart to leave after 10 years\",\n",
       "  'content': 'Meta\\'s VP of Product Design Margaret Stewart will leave the company after over 10 years. Notably, Stewart also led Meta\\'s now-dissolved Responsible Innovation team that focused on identifying potential harms of the firm\\'s products. Announcing her departure, Stewart said she was \"sad\" that the team was reorganised but remains hopeful that its work will \"continue to influence\" what Meta builds.',\n",
       "  'category': 'technology'},\n",
       " {'title': 'Apple ordered to sell iPhones with charger by Brazil court, fined ₹156 crore',\n",
       "  'content': 'A Brazilian court on Thursday fined Apple 100 million reais (around ₹156 crore) and ruled that battery chargers must come with new iPhones sold in the country. The lawsuit filed by an association of borrowers, consumers and taxpayers argued that the company commits abusive practices by selling its flagship product without a charger. Apple said it will appeal the decision.',\n",
       "  'category': 'technology'},\n",
       " {'title': 'Layoffs will be the absolute last thing at Zoho, it destroys loyalty: CEO',\n",
       "  'content': 'Software startup Zoho\\'s CEO Sridhar Vembu said that layoffs will be the \"absolute last thing\" that the company will ever consider. \"It kind of destroys loyalty...If we want our employees to be loyal, we have to be loyal to them,\" the billionaire explained. Vembu further said that even when the times are tough, the company needs to retain its talent.',\n",
       "  'category': 'technology'},\n",
       " {'title': \"Infosys' attrition drops to 27.1%, net employee addition at 10,032 in Jul-Sept\",\n",
       "  'content': \"Infosys on Thursday reported a 1.3% QoQ drop in its voluntary attrition rate from 28.4% in April-June quarter to 27.1% in July-September quarter. The IT firm added that its net employee addition in the quarter was 10,032 individuals, down 52.6% QoQ from net employee addition of 21,171 people in April-June quarter. Infosys' share of female employees remained stable at 39.3%.\",\n",
       "  'category': 'technology'},\n",
       " {'title': \"Govt issues 'high severity' warning to Zoom users after vulnerabilities found\",\n",
       "  'content': \"The government's CERT-In issued a 'high severity' warning saying that multiple vulnerabilities have been found in Zoom products which could allow attackers to prevent meeting participants from receiving audio and video. Affected software includes Zoom On-Premise Meeting Connector MMR before version 4.8.20220916.131 and Zoom Client for Meetings for macOS starting with 5.10.6 and prior to 5.12.0.\",\n",
       "  'category': 'technology'},\n",
       " {'title': 'SpaceX says it cannot fund Starlink in Ukraine, seeks funding from US govt',\n",
       "  'content': \"SpaceX, in a letter to the Pentagon, said that it can no longer donate or fund Starlink terminals for Ukraine. The Elon Musk-led company has requested the US government to take over funding for Ukraine's government and military use of Starlink. SpaceX estimates that providing Starlink in Ukraine will cost more than $120 million for the rest of the year.\",\n",
       "  'category': 'technology'},\n",
       " {'title': 'Meta seeks dismissal of US FTC lawsuit over VR company acquisition',\n",
       "  'content': 'Meta on Thursday asked a federal court to dismiss a lawsuit filed by the US Federal Trade Commission (FTC) against its proposed acquisition of California-based VR firm Within Unlimited and its fitness app Supernatural. The lawsuit, filed in July, said the deal would hurt competition in VR fitness market. Meta said the lawsuit is \"ill-conceived\" and \"relies on pure speculation\".',\n",
       "  'category': 'technology'},\n",
       " {'title': 'Taiwanese chipmaker TSMC posts 80% rise in Q3 net profit, highest in 2 yrs',\n",
       "  'content': \"Taiwan Semiconductor Manufacturing Company Limited (TSMC), the world's largest contract chipmaker and a major Apple supplier, posted an 80% surge in net profit at $8.81 billion for the third quarter. It's the strongest growth in two years led by sales of its advanced chips used in data centres and electric cars. TSMC's quarterly revenue rose by 36% to $20.23 billion.\\n\",\n",
       "  'category': 'technology'},\n",
       " {'title': 'Samsung gets 1-year exemption from US chip curbs on China: Report',\n",
       "  'content': 'The United States has granted a one-year exemption to Samsung Electronics from the new rules that curbs exports of advanced chips and related equipment to China, The Wall Street Journal reported citing sources on Thursday. Following the exemption, Samsung can continue receiving chip-making equipment and other items it needs to maintain its memory-chip production in China.\\n',\n",
       "  'category': 'technology'},\n",
       " {'title': 'Scientists develop boot that allows people to walk 9% faster',\n",
       "  'content': 'Researchers from US\\' Stanford University have developed an exoskeleton \"boot\" that allows its wearer to walk 9% faster with 17% less effort. The footwear\\'s motor works with the wearer\\'s calf muscles to give them an extra push with every step. Researchers said the boot could help people with mobility impairments \"move throughout the world as they like\".',\n",
       "  'category': 'technology'},\n",
       " {'title': 'US-based 6sense fires 150 workers globally, including India: Report',\n",
       "  'content': 'US-based AI firm 6sense has fired close to 150 employees globally, including India, citing uncertain macroeconomic conditions, Moneycontrol reported. The layoffs happened across teams including content, design, sales and marketing. Employees were reportedly offered to encash privilege leaves as part of severance package. The Tiger Global-backed company is currently valued at $5.2 billion.',\n",
       "  'category': 'technology'},\n",
       " {'title': \"Bezos' ex-wife MacKenzie donates $15 mn for glasses to farmers\",\n",
       "  'content': \"Amazon Founder Jeff Bezos' ex-wife and philanthropist MacKenzie Scott has donated $15 million to VisionSpring, a nonprofit that provides eyeglasses to farmers in developing nations. Scott, who received $38 billion in the divorce settlement, has donated more than $12 billion to over 1,275 organisations. Her philanthropic goals are to provide for causes often overlooked in the world of development.\",\n",
       "  'category': 'technology'},\n",
       " {'title': 'Snap employee data exposed after breach at a document firm: Report',\n",
       "  'content': \"Messaging app Snap has reported that its employees' data was exposed by a breach at a third-party document analysis firm, Elevate, Reuters reported. Elevate reportedly told Snap that an unauthorised party had accessed some of its computer systems in March 2022. According to a letter to a former employee, information including name, address and employment history may have been affected.\",\n",
       "  'category': 'technology'},\n",
       " {'title': 'Infosys not to mandate return to office, flexible approach to continue: CEO',\n",
       "  'content': 'Infosys CEO Salil Parekh said the company has not mandated any fixed number of days that employees need to attend office physically and will continue with its flexible approach. \"In our India offices, we have about 45,000 employees in the office at any given time...We are finding that the approach taken so far has been well received,\" Parekh said.',\n",
       "  'category': 'technology'},\n",
       " {'title': 'Amazon to launch internet satellites on ULA rocket in early 2023',\n",
       "  'content': \"Amazon will launch its first two prototype satellites for a planned internet-from-space constellation in early 2023. A new rocket from Boeing-Lockheed's United Launch Alliance (ULA) will be used. The prototype satellites will be part of Amazon's Kuiper network, which is a planned constellation of 3,236 low-Earth orbiting satellites that will beam broadband internet to the world's remote parts.\\n\",\n",
       "  'category': 'technology'},\n",
       " {'title': 'Meta to let users add legs to their metaverse avatars',\n",
       "  'content': 'Meta CEO Mark Zuckerberg has announced that users will now be able to add legs to their metaverse avatars. \"I know you\\'ve been waiting for this...But...legs are hard, which is why other virtual reality systems don\\'t have them either,\" Zuckerberg\\'s avatar said during a presentation. Meta also announced that it\\'s bringing avatars to video call, starting with WhatsApp and Messenger.',\n",
       "  'category': 'technology'},\n",
       " {'title': 'Prototype turbine sets world record of generating most power in 24 hrs',\n",
       "  'content': 'Siemens Gamesa\\'s prototype wind turbine generated 359 megawatt-hours of power in one day, setting the world record for the most amount of power generated in a 24-hour period. Power generated by the prototype would be enough to power 18,000 households. The breakthrough was achieved using a set of \"revolutionary\" blades that are cast in a single piece of recyclable resin. ',\n",
       "  'category': 'technology'},\n",
       " {'title': \"India's 5G is indigenous and can be provided to other nations: FM\",\n",
       "  'content': 'Union Finance Minister Nirmala Sitharaman said the 5G technology in India is completely indigenous except for some \"critical parts\" that have been imported. \"There could be some critical parts coming from, say, countries like (South) Korea, but certainly not from somebody else. So complete indigenous technology that we can now provide 5G (to any country) who wants it,\" Sitharaman said.\\n',\n",
       "  'category': 'technology'},\n",
       " {'title': 'US-based Bitcoin firm NYDIG lays off around 33% of its staff: Report',\n",
       "  'content': \"US-based Bitcoin company NYDIG laid off 110 employees, a third of its workforce, last month to cut costs, The Wall Street Journal reported. The company took the decision weeks before replacing its top two executives. Last year, NYDIG raised $1 billion in a funding round which increased the company's valuation to more than $7 billion.\",\n",
       "  'category': 'technology'},\n",
       " {'title': 'Electric vehicle makers face penalty after probe into recent fire incidents',\n",
       "  'content': 'The Ministry of Road Transport and Highways has imposed a penalty on EV makers after an investigation into several two-wheelers catching fire, a report said. The government had formed high-level committee to review testing standards after at least 10 incidents of fire in EVs were reported between March and June. Penalty imposed under Central Motor Vehicles Rules has been collected.',\n",
       "  'category': 'technology'},\n",
       " {'title': 'They put their fingers inside of us: Paris Hilton on sexual abuse at boarding school',\n",
       "  'content': 'Paris Hilton has said she was \"sexually abused during medical examinations\" at boarding school. She alleged that the Provo Canyon School in US\\' Utah would \"perform cervical exams\" routinely on the students. \"This wasn\\'t even with a doctor. It was with...staff members, where they would have us lay on the table and put their fingers inside of us,\" she stated.',\n",
       "  'category': 'entertainment'},\n",
       " {'title': 'Kiara gets annoyed as photographers push senior citizens to click photos, video surfaces',\n",
       "  'content': 'A video shows actress Kiara Advani getting annoyed as media photographers accidentally pushed senior citizens in order to get her photos. Kiara had attended the screening of India\\'s Oscar entry \\'Chhello Show\\' in Mumbai. Amid the rush, Kiara can be heard telling photographers, \"There are senior citizens and you are doing this. Careful. What are you guys doing?\"',\n",
       "  'category': 'entertainment'},\n",
       " {'title': \"'Kantara' beats 'KGF 2', becomes highest rated Indian film on IMDb\",\n",
       "  'content': \"Kannada film 'Kantara', starring Rishab Shetty, has become the highest-rated Indian film on IMDb, surpassing 'KGF Chapter 2'. 'Kantara' currently has a rating of 9.5 on IMDb, followed by 'KGF Chapter 2' (8.4) and SS Rajamouli's 'RRR' (8). Directed by Rishab Shetty, 'Kantara' deals with the issues of land and ownership.\",\n",
       "  'category': 'entertainment'},\n",
       " {'title': \"Ekta Kapoor's Balaji Telefilms' ex-COO Zulfiqar Khan missing in Kenya since July\",\n",
       "  'content': \"Ekta Kapoor's Balaji Telefilms' ex-COO Zulfiqar Khan has been missing in Nairobi, Kenya, since July this year. The 48-year-old went on holiday and was due to return on July 24. However, he dropped out of contact on July 21. The family has written to the government to trace him and also started an online campaign #BringZulfiBack.\\n\\n\",\n",
       "  'category': 'entertainment'},\n",
       " {'title': \"You're polluting minds of young generation: SC to Ekta Kapoor on 'XXX' web series\",\n",
       "  'content': 'Supreme Court has criticised producer Ekta Kapoor over \"objectionable content\" in her web series \\'XXX\\' saying she is polluting minds of young generation. It was hearing a plea challenging arrest warrants issued against her for allegedly insulting soldiers in the web series. \"OTT...content is available to all. What kind of choice are you providing to the people?\" the court said.\\n\\n\\n\\n',\n",
       "  'category': 'entertainment'},\n",
       " {'title': \"Wonderful experience to work with Rani Mukerji in 'Aiyyaa': Prithviraj\",\n",
       "  'content': 'Recalling his Bollywood debut film \\'Aiyyaa\\', Malayalam actor Prithviraj Sukumaran has said, \"It was a wonderful experience to share the screen with Rani Mukerji and work with director Sachin Kundalkar.\" The film had released in 2012. \"I am inundated and grateful with the love and support that my fans from all across the nation are showering on me,\" he added.',\n",
       "  'category': 'entertainment'},\n",
       " {'title': \"'Ponniyin...' beats 'Vikram', becomes highest grosser in Tamil Nadu\",\n",
       "  'content': 'Mani Ratnam\\'s \\'Ponniyin Selvan: I\\' has beaten Kamal Haasan\\'s \\'Vikram\\' to become the highest-grossing film in Tamil Nadu, as per trade analyst Trinath. \"At the end of Wednesday, Ponniyin Selvan: I\\'s Tamil Nadu gross stood at around ₹186 crore. It has beaten Vikram\\'s lifetime collection in [the state] in less than two weeks,\" the analyst stated.',\n",
       "  'category': 'entertainment'},\n",
       " {'title': \"Hindu Sena files PIL in Delhi HC against Om Raut's 'Adipurush'\",\n",
       "  'content': \"A PIL has been filed in Delhi HC against Om Raut's upcoming movie 'Adipurush', seeking removal of 'objectionable content' related to Lord Ram, Hanuman, Raavan and others. The plea has been moved by National President of Hindu Sena, Vishnu Gupta. It states that the movie has hurt the sentiments of Hindu community by depicting religious figures in an inappropriate manner. \",\n",
       "  'category': 'entertainment'},\n",
       " {'title': 'JPMorgan cuts ties with Kanye, gives him until Nov 21 to move assets',\n",
       "  'content': 'JPMorgan Chase has cut ties with Kanye West, officially known as Ye, and has given him until November 21 to transfer his business to another bank. A letter apparently sent by the bank to the rapper was shared by conservative activist Candace Owens. The bank reportedly sent the letter in September, weeks before Kanye received criticism over his anti-Semitic comments.',\n",
       "  'category': 'entertainment'},\n",
       " {'title': 'Delivered cassettes to sex workers, underworld, police: Madhur on money issues',\n",
       "  'content': 'While talking about the financial crunch in his family, film director Madhur Bhandarkar said that for three years he delivered cassettes to people. \"I delivered cassettes to all sorts of people - sex workers, girls from beer bars, the underworld, at skyscrapers and bungalows as well as jhuggi jhopris, to Bollywood people [and] to police,\" he added.',\n",
       "  'category': 'entertainment'},\n",
       " {'title': \"I didn't, he blocked me: Charu on reports she unfollowed Rajeev on Instagram\",\n",
       "  'content': 'Actress Charu Asopa has reacted to reports that claimed she unfollowed her husband Rajeev Sen on Instagram. \"I did not unfollow him, he blocked me,\" she said. \"He has gone to Delhi and waha jaane ke baad he...blocked me. I have no clue what he\\'s doing or where he is,\" Charu added. The duo had earlier called off their divorce. ',\n",
       "  'category': 'entertainment'},\n",
       " {'title': \"Everything is okay between Chiranjeevi & me: Allu Arjun's father\",\n",
       "  'content': 'Actor Allu Arjun\\'s father and Telugu producer Allu Arvind has said that everything is \"okay\" between him and South star Chiranjeevi. This comes after there were speculations that actor Allu Arjun\\'s family was not on good terms with Chiranjeevi and his son Ram Charan\\'s family. \"[Chiranjeevi & I] still visit each other\\'s homes on Diwali and Sankranti,\" Arvind further stated.',\n",
       "  'category': 'entertainment'},\n",
       " {'title': 'SC questions need for pre-screening committee for web series, films',\n",
       "  'content': 'The Supreme Court questioned the need for a pre-screening committee for web series, films and other programmes released on OTT platforms. \"For OTT satellite transmission is from other countries and not this one even though viewers may be here,\" a bench of CJI UU Lalit and Justice Bela M Trivedi said. The bench added that it felt pre-censorship is impermissible.',\n",
       "  'category': 'entertainment'},\n",
       " {'title': \"Big B was to star in 'King Uncle' opposite me: 'Aashiqui'\\xa0actress Anu\",\n",
       "  'content': '\\'Aashiqui\\' actress Anu Aggarwal revealed that veteran actor Amitabh Bachchan was to feature in the 1993 film \\'King Uncle\\'. \"I was certainly looking forward to working with a legend like him, but, I believe whatever happens is a part of the universal scheme,\" she added. Amitabh\\'s role was played by actor Jackie Shroff. The film also featured Shah Rukh Khan.',\n",
       "  'category': 'entertainment'},\n",
       " {'title': 'Worked every day for 8 years, was depressed; developed health issues: Nargis',\n",
       "  'content': 'Actress Nargis Fakhri said that she worked every single day for eight years. \"I hardly got to be with my family. I felt unwell due to stress. Consequently, I developed health issues. Was I depressed? I guess you can use the word. I was unhappy in my situation...I took two years off to get healthy,\" she added.',\n",
       "  'category': 'entertainment'},\n",
       " {'title': \"Rasika Dugal wraps up shooting for 'Mirzapur 3'\",\n",
       "  'content': 'Actress Rasika Dugal has completed shooting for the third season of the web series \\'Mirzapur\\'. The actress, who plays a character named Beena Tripathi on the show, said that she will miss being on the sets and collaborating with her \"favourite people\". In addition to Rasika, \\'Mirzapur 3\\' will also feature Pankaj Tripathi and Ali Fazal, among others. ',\n",
       "  'category': 'entertainment'},\n",
       " {'title': \"Felt cheated, nobody expected it to be animated film: Vishnu on 'Adipurush'\",\n",
       "  'content': 'Telugu actor Vishnu Manchu said in an interview that he \"felt cheated\" when he saw the teaser of \\'Adipurush\\'. He added that nobody expected it to be an animated film. \"We all thought...it\\'ll be a mainstream live-action movie,\" said Vishnu. \"If you would\\'ve said...it was an animated film, and then released the teaser, there would\\'ve been zero trolls,\" he added. ',\n",
       "  'category': 'entertainment'},\n",
       " {'title': 'Shalin & I are simply making an effort to be cordial for our son: Dalljiet',\n",
       "  'content': \"After Bigg Boss 16 contestant Shalin Bhanot claimed that he and his ex-wife, Dalljiet, are best friends, the latter denied it, saying they're simply making an effort to be cordial for their son. Dalljiet added they only see each other because she wants their son to have a good relationship with Shalin and doesn't want him to witness Dalljiet-Shalin controversies.\",\n",
       "  'category': 'entertainment'},\n",
       " {'title': \"It doesn't bother me: Sidharth on wedding rumours with Kiara\",\n",
       "  'content': 'Actor Sidharth Malhotra, when asked if the rumours about his wedding with actress Kiara Advani bother him, said, \"No, it doesn\\'t.\" He added he doesn\\'t think there\\'s anything to be bothered about after being in the film industry for 10 years. Sidharth further said if he was getting married, it would be very difficult to keep it a secret today. ',\n",
       "  'category': 'entertainment'},\n",
       " {'title': \"Was told I did 'Soch', 'Joker' for sympathy; couldn't sing for 1.5 yrs: Harrdy \",\n",
       "  'content': 'Singer Harrdy Sandhu said that he got messages saying that he does songs like \\'Soch\\', \\'Joker\\' and \\'Naa Ji Naa\\' to gain sympathy. \"I took it to my heart, I couldn\\'t sing any song for 1.5 years. Then I picked myself up...and then I started singing and I started doing dance numbers...When they also worked...then I was happy,\" he added. ',\n",
       "  'category': 'entertainment'},\n",
       " {'title': 'When father takes care of child, society blows it out of proportion: Neha Dhupia',\n",
       "  'content': 'Actress Neha Dhupia said she finds it \"problematic\" when people think that it\\'s only her duty to take care of her kids. Neha said that after her daughter was born, people would look at her and ask, \"Where\\'s the baby? Who\\'s watching over her?\" \"Society blows it out of proportion when the father...[takes care of the child],\" she added.\\n',\n",
       "  'category': 'entertainment'},\n",
       " {'title': \"Mind-blowing, a must-watch: Dhanush on Rishab Shetty's 'Kantara'\",\n",
       "  'content': 'Actor Dhanush took to Twitter to praise Rishab Shetty\\'s \\'Kantara\\', saying, \"Mind-blowing!! A must-watch.\" \"Rishab Shetty, you should be very proud of yourself. Congratulations Hombale Films (production house)...keep pushing the boundaries. A big hug to all the actors and technicians of the film,\" he added. Besides playing the lead, Rishab has written and directed the film. ',\n",
       "  'category': 'entertainment'},\n",
       " {'title': \"Working with Salman Khan again in 'Tiger 3' is fantastic: Katrina Kaif\",\n",
       "  'content': 'Speaking about working with actor Salman Khan in \\'Tiger 3\\', actress Katrina Kaif has said that working with the actor again is fantastic. Katrina said she has much regard for the franchise as producer Aditya Chopra gives her character \"that kind of prominence and importance in the action\". The actress said that she loves doing action in a film.  ',\n",
       "  'category': 'entertainment'},\n",
       " {'title': \"Always wanted to be like Big B, he's still going on at 80: Ranveer\",\n",
       "  'content': 'Actor Ranveer Singh dedicated his Lokmat Maharashtrian of the Year 2022 award to veteran actor Amitabh Bachchan, who turned 80 on Tuesday. \"I wanted to become Bachchan from my childhood, today also I want that...would want to become him in future. He\\'s still going on at the age of 80, he\\'s still acting,\" Ranveer said.',\n",
       "  'category': 'entertainment'}]"
      ]
     },
     "execution_count": 19,
     "metadata": {},
     "output_type": "execute_result"
    }
   ],
   "source": [
    "#Test my function!\n",
    "final_list = get_news_articles()\n",
    "final_list"
   ]
  },
  {
   "cell_type": "code",
   "execution_count": 20,
   "id": "423ba4d1",
   "metadata": {},
   "outputs": [
    {
     "data": {
      "text/plain": [
       "99"
      ]
     },
     "execution_count": 20,
     "metadata": {},
     "output_type": "execute_result"
    }
   ],
   "source": [
    "#Confirm I've collected enough information\n",
    "len(final_list)"
   ]
  },
  {
   "cell_type": "code",
   "execution_count": null,
   "id": "635b501d",
   "metadata": {},
   "outputs": [],
   "source": []
  }
 ],
 "metadata": {
  "kernelspec": {
   "display_name": "base",
   "language": "python",
   "name": "python3"
  },
  "language_info": {
   "codemirror_mode": {
    "name": "ipython",
    "version": 3
   },
   "file_extension": ".py",
   "mimetype": "text/x-python",
   "name": "python",
   "nbconvert_exporter": "python",
   "pygments_lexer": "ipython3",
   "version": "3.9.12 (main, Jun  1 2022, 06:34:44) \n[Clang 12.0.0 ]"
  },
  "vscode": {
   "interpreter": {
    "hash": "38cca0c38332a56087b24af0bc80247f4fced29cb4f7f437d91dc159adec9c4e"
   }
  }
 },
 "nbformat": 4,
 "nbformat_minor": 5
}
